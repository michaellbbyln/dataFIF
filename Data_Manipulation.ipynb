{
 "cells": [
  {
   "cell_type": "markdown",
   "id": "ba248a4f",
   "metadata": {},
   "source": [
    "# Treatment for Null Values"
   ]
  },
  {
   "cell_type": "code",
   "execution_count": null,
   "id": "3e23cc2b",
   "metadata": {},
   "outputs": [
    {
     "name": "stdout",
     "output_type": "stream",
     "text": [
      "  Item_Identifier  Item_Weight Item_Fat_Content  Item_Visibility  \\\n",
      "0           FDA15         9.30          Low Fat         0.016047   \n",
      "1           DRC01         5.92          Regular         0.019278   \n",
      "2           FDN15        17.50          Low Fat         0.016760   \n",
      "3           FDX07        19.20          Regular         0.000000   \n",
      "4           NCD19         8.93          Low Fat         0.000000   \n",
      "\n",
      "               Item_Type  Item_MRP Outlet_Identifier  \\\n",
      "0                  Dairy  249.8092            OUT049   \n",
      "1            Soft Drinks   48.2692            OUT018   \n",
      "2                   Meat  141.6180            OUT049   \n",
      "3  Fruits and Vegetables  182.0950            OUT010   \n",
      "4              Household   53.8614            OUT013   \n",
      "\n",
      "   Outlet_Establishment_Year Outlet_Size Outlet_Location_Type  \\\n",
      "0                       1999      Medium               Tier 1   \n",
      "1                       2009      Medium               Tier 3   \n",
      "2                       1999      Medium               Tier 1   \n",
      "3                       1998         NaN               Tier 3   \n",
      "4                       1987        High               Tier 3   \n",
      "\n",
      "         Outlet_Type  Item_Outlet_Sales  \n",
      "0  Supermarket Type1          3735.1380  \n",
      "1  Supermarket Type2           443.4228  \n",
      "2  Supermarket Type1          2097.2700  \n",
      "3      Grocery Store           732.3800  \n",
      "4  Supermarket Type1           994.7052  \n"
     ]
    }
   ],
   "source": [
    "import pandas as pd \n",
    "import numpy as np \n",
    "\n",
    "df = pd.read_csv('market_data.csv')\n",
    "df=pd.DataFrame(df)\n",
    "print(df.head())\n",
    "\n",
    "#data tentang apa dan mengerti kolomnya\n",
    "# bisa dicek pake Chi-Square / Feature Important untuk tahu apakah kolom relevan atau tidak"
   ]
  },
  {
   "cell_type": "code",
   "execution_count": 10,
   "id": "22b92ff3",
   "metadata": {},
   "outputs": [
    {
     "name": "stdout",
     "output_type": "stream",
     "text": [
      "<class 'pandas.core.frame.DataFrame'>\n",
      "RangeIndex: 8523 entries, 0 to 8522\n",
      "Data columns (total 12 columns):\n",
      " #   Column                     Non-Null Count  Dtype  \n",
      "---  ------                     --------------  -----  \n",
      " 0   Item_Identifier            8523 non-null   object \n",
      " 1   Item_Weight                7060 non-null   float64\n",
      " 2   Item_Fat_Content           8523 non-null   object \n",
      " 3   Item_Visibility            8523 non-null   float64\n",
      " 4   Item_Type                  8523 non-null   object \n",
      " 5   Item_MRP                   8523 non-null   float64\n",
      " 6   Outlet_Identifier          8523 non-null   object \n",
      " 7   Outlet_Establishment_Year  8523 non-null   int64  \n",
      " 8   Outlet_Size                6113 non-null   object \n",
      " 9   Outlet_Location_Type       8523 non-null   object \n",
      " 10  Outlet_Type                8523 non-null   object \n",
      " 11  Item_Outlet_Sales          8523 non-null   float64\n",
      "dtypes: float64(4), int64(1), object(7)\n",
      "memory usage: 799.2+ KB\n"
     ]
    }
   ],
   "source": [
    "df.info()"
   ]
  },
  {
   "cell_type": "code",
   "execution_count": 11,
   "id": "2755128c",
   "metadata": {},
   "outputs": [
    {
     "data": {
      "text/plain": [
       "np.int64(0)"
      ]
     },
     "execution_count": 11,
     "metadata": {},
     "output_type": "execute_result"
    }
   ],
   "source": [
    "df.duplicated().sum()"
   ]
  },
  {
   "cell_type": "code",
   "execution_count": 3,
   "id": "fb86667c",
   "metadata": {},
   "outputs": [
    {
     "name": "stdout",
     "output_type": "stream",
     "text": [
      "      Item_Identifier  Item_Weight  Item_Fat_Content  Item_Visibility  \\\n",
      "0               False        False             False            False   \n",
      "1               False        False             False            False   \n",
      "2               False        False             False            False   \n",
      "3               False        False             False            False   \n",
      "4               False        False             False            False   \n",
      "...               ...          ...               ...              ...   \n",
      "8518            False        False             False            False   \n",
      "8519            False        False             False            False   \n",
      "8520            False        False             False            False   \n",
      "8521            False        False             False            False   \n",
      "8522            False        False             False            False   \n",
      "\n",
      "      Item_Type  Item_MRP  Outlet_Identifier  Outlet_Establishment_Year  \\\n",
      "0         False     False              False                      False   \n",
      "1         False     False              False                      False   \n",
      "2         False     False              False                      False   \n",
      "3         False     False              False                      False   \n",
      "4         False     False              False                      False   \n",
      "...         ...       ...                ...                        ...   \n",
      "8518      False     False              False                      False   \n",
      "8519      False     False              False                      False   \n",
      "8520      False     False              False                      False   \n",
      "8521      False     False              False                      False   \n",
      "8522      False     False              False                      False   \n",
      "\n",
      "      Outlet_Size  Outlet_Location_Type  Outlet_Type  Item_Outlet_Sales  \n",
      "0           False                 False        False              False  \n",
      "1           False                 False        False              False  \n",
      "2           False                 False        False              False  \n",
      "3            True                 False        False              False  \n",
      "4           False                 False        False              False  \n",
      "...           ...                   ...          ...                ...  \n",
      "8518        False                 False        False              False  \n",
      "8519         True                 False        False              False  \n",
      "8520        False                 False        False              False  \n",
      "8521        False                 False        False              False  \n",
      "8522        False                 False        False              False  \n",
      "\n",
      "[8523 rows x 12 columns]\n"
     ]
    }
   ],
   "source": [
    "mv = df.isnull()\n",
    "print(mv)"
   ]
  },
  {
   "cell_type": "code",
   "execution_count": 6,
   "id": "5d84b8f9",
   "metadata": {},
   "outputs": [
    {
     "name": "stdout",
     "output_type": "stream",
     "text": [
      "     Item_Identifier  Item_Weight Item_Fat_Content  Item_Visibility  \\\n",
      "3              FDX07       19.200          Regular         0.000000   \n",
      "8              FDH17       16.200          Regular         0.016687   \n",
      "9              FDU28       19.200          Regular         0.094450   \n",
      "25             NCD06       13.000          Low Fat         0.099887   \n",
      "28             FDE51        5.925          Regular         0.161467   \n",
      "...              ...          ...              ...              ...   \n",
      "8502           NCH43        8.420          Low Fat         0.070712   \n",
      "8508           FDW31       11.350          Regular         0.043246   \n",
      "8509           FDG45        8.100          Low Fat         0.214306   \n",
      "8514           FDA01       15.000          Regular         0.054489   \n",
      "8519           FDS36        8.380          Regular         0.046982   \n",
      "\n",
      "                  Item_Type  Item_MRP Outlet_Identifier  \\\n",
      "3     Fruits and Vegetables  182.0950            OUT010   \n",
      "8              Frozen Foods   96.9726            OUT045   \n",
      "9              Frozen Foods  187.8214            OUT017   \n",
      "25                Household   45.9060            OUT017   \n",
      "28                    Dairy   45.5086            OUT010   \n",
      "...                     ...       ...               ...   \n",
      "8502              Household  216.4192            OUT045   \n",
      "8508  Fruits and Vegetables  199.4742            OUT045   \n",
      "8509  Fruits and Vegetables  213.9902            OUT010   \n",
      "8514                 Canned   57.5904            OUT045   \n",
      "8519           Baking Goods  108.1570            OUT045   \n",
      "\n",
      "      Outlet_Establishment_Year Outlet_Size Outlet_Location_Type  \\\n",
      "3                          1998         NaN               Tier 3   \n",
      "8                          2002         NaN               Tier 2   \n",
      "9                          2007         NaN               Tier 2   \n",
      "25                         2007         NaN               Tier 2   \n",
      "28                         1998         NaN               Tier 3   \n",
      "...                         ...         ...                  ...   \n",
      "8502                       2002         NaN               Tier 2   \n",
      "8508                       2002         NaN               Tier 2   \n",
      "8509                       1998         NaN               Tier 3   \n",
      "8514                       2002         NaN               Tier 2   \n",
      "8519                       2002         NaN               Tier 2   \n",
      "\n",
      "            Outlet_Type  Item_Outlet_Sales  \n",
      "3         Grocery Store           732.3800  \n",
      "8     Supermarket Type1          1076.5986  \n",
      "9     Supermarket Type1          4710.5350  \n",
      "25    Supermarket Type1           838.9080  \n",
      "28        Grocery Store           178.4344  \n",
      "...                 ...                ...  \n",
      "8502  Supermarket Type1          3020.0688  \n",
      "8508  Supermarket Type1          2587.9646  \n",
      "8509      Grocery Store           424.7804  \n",
      "8514  Supermarket Type1           468.7232  \n",
      "8519  Supermarket Type1           549.2850  \n",
      "\n",
      "[2410 rows x 12 columns]\n"
     ]
    }
   ],
   "source": [
    "bool_series = pd.isnull(df['Outlet_Size'])\n",
    "missing_data = df[bool_series]\n",
    "print(missing_data)"
   ]
  },
  {
   "cell_type": "code",
   "execution_count": 7,
   "id": "c6c1daf4",
   "metadata": {},
   "outputs": [
    {
     "data": {
      "application/vnd.microsoft.datawrangler.viewer.v0+json": {
       "columns": [
        {
         "name": "index",
         "rawType": "object",
         "type": "string"
        },
        {
         "name": "0",
         "rawType": "int64",
         "type": "integer"
        }
       ],
       "ref": "4a247466-6eb7-4656-801b-eb56b1727a1f",
       "rows": [
        [
         "Item_Identifier",
         "0"
        ],
        [
         "Item_Weight",
         "1463"
        ],
        [
         "Item_Fat_Content",
         "0"
        ],
        [
         "Item_Visibility",
         "0"
        ],
        [
         "Item_Type",
         "0"
        ],
        [
         "Item_MRP",
         "0"
        ],
        [
         "Outlet_Identifier",
         "0"
        ],
        [
         "Outlet_Establishment_Year",
         "0"
        ],
        [
         "Outlet_Size",
         "2410"
        ],
        [
         "Outlet_Location_Type",
         "0"
        ],
        [
         "Outlet_Type",
         "0"
        ],
        [
         "Item_Outlet_Sales",
         "0"
        ]
       ],
       "shape": {
        "columns": 1,
        "rows": 12
       }
      },
      "text/plain": [
       "Item_Identifier                 0\n",
       "Item_Weight                  1463\n",
       "Item_Fat_Content                0\n",
       "Item_Visibility                 0\n",
       "Item_Type                       0\n",
       "Item_MRP                        0\n",
       "Outlet_Identifier               0\n",
       "Outlet_Establishment_Year       0\n",
       "Outlet_Size                  2410\n",
       "Outlet_Location_Type            0\n",
       "Outlet_Type                     0\n",
       "Item_Outlet_Sales               0\n",
       "dtype: int64"
      ]
     },
     "execution_count": 7,
     "metadata": {},
     "output_type": "execute_result"
    }
   ],
   "source": [
    "df.isnull().sum()"
   ]
  },
  {
   "cell_type": "markdown",
   "id": "327b1155",
   "metadata": {},
   "source": [
    "### Handles Missing Values for Item_Weight"
   ]
  },
  {
   "cell_type": "code",
   "execution_count": null,
   "id": "ada9ccef",
   "metadata": {},
   "outputs": [
    {
     "data": {
      "application/vnd.microsoft.datawrangler.viewer.v0+json": {
       "columns": [
        {
         "name": "index",
         "rawType": "object",
         "type": "string"
        },
        {
         "name": "Item_Weight",
         "rawType": "float64",
         "type": "float"
        }
       ],
       "ref": "e0e5f0df-a80b-456a-b6f8-2c027dd2cb8c",
       "rows": [
        [
         "count",
         "7060.0"
        ],
        [
         "mean",
         "12.857645184135977"
        ],
        [
         "std",
         "4.643456499186416"
        ],
        [
         "min",
         "4.555"
        ],
        [
         "25%",
         "8.77375"
        ],
        [
         "50%",
         "12.6"
        ],
        [
         "75%",
         "16.85"
        ],
        [
         "max",
         "21.35"
        ]
       ],
       "shape": {
        "columns": 1,
        "rows": 8
       }
      },
      "text/plain": [
       "count    7060.000000\n",
       "mean       12.857645\n",
       "std         4.643456\n",
       "min         4.555000\n",
       "25%         8.773750\n",
       "50%        12.600000\n",
       "75%        16.850000\n",
       "max        21.350000\n",
       "Name: Item_Weight, dtype: float64"
      ]
     },
     "execution_count": 12,
     "metadata": {},
     "output_type": "execute_result"
    }
   ],
   "source": [
    "# Mean\n",
    "df2 = df.copy()\n",
    "df2['Item_Weight'].describe()\n",
    "\n",
    "# Std 4.64 menunjukkan ada variasi yang cukup dalam Item_Weight\n",
    "# Mean dan median cukup dekat = distribusi cukup simetris"
   ]
  },
  {
   "cell_type": "code",
   "execution_count": 16,
   "id": "b9f87288",
   "metadata": {},
   "outputs": [
    {
     "name": "stdout",
     "output_type": "stream",
     "text": [
      "Empty DataFrame\n",
      "Columns: [Item_Identifier, Item_Weight, Item_Fat_Content, Item_Visibility, Item_Type, Item_MRP, Outlet_Identifier, Outlet_Establishment_Year, Outlet_Size, Outlet_Location_Type, Outlet_Type, Item_Outlet_Sales]\n",
      "Index: []\n"
     ]
    }
   ],
   "source": [
    "q1 = df2['Item_Weight'].quantile(0.25)\n",
    "q3 = df2['Item_Weight'].quantile(0.75)\n",
    "IQR = df2['Item_Weight'].quantile(0.75)-df2['Item_Weight'].quantile(0.25)\n",
    "\n",
    "batas_bawah = q1 - 1.5 * IQR\n",
    "batas_atas = q3 + 1.5 * IQR\n",
    "\n",
    "outliers=df2[(df2['Item_Weight']< batas_bawah) | (df2['Item_Weight'] > batas_atas)]\n",
    "print(outliers)"
   ]
  },
  {
   "cell_type": "code",
   "execution_count": 28,
   "id": "d695cc99",
   "metadata": {},
   "outputs": [
    {
     "name": "stdout",
     "output_type": "stream",
     "text": [
      "12.857645184135977\n",
      "0\n"
     ]
    },
    {
     "name": "stderr",
     "output_type": "stream",
     "text": [
      "C:\\Users\\71487\\AppData\\Local\\Temp\\ipykernel_14312\\4094689472.py:1: FutureWarning: A value is trying to be set on a copy of a DataFrame or Series through chained assignment using an inplace method.\n",
      "The behavior will change in pandas 3.0. This inplace method will never work because the intermediate object on which we are setting values always behaves as a copy.\n",
      "\n",
      "For example, when doing 'df[col].method(value, inplace=True)', try using 'df.method({col: value}, inplace=True)' or df[col] = df[col].method(value) instead, to perform the operation inplace on the original object.\n",
      "\n",
      "\n",
      "  df2['Item_Weight'].fillna(df['Item_Weight'].mean(),inplace=True)\n"
     ]
    }
   ],
   "source": [
    "df2['Item_Weight'].fillna(df['Item_Weight'].mean(),inplace=True)\n",
    "print(df2['Item_Weight'].mean())\n",
    "print(df2['Item_Weight'].isnull().sum())"
   ]
  },
  {
   "cell_type": "code",
   "execution_count": 29,
   "id": "471fabd5",
   "metadata": {},
   "outputs": [
    {
     "name": "stdout",
     "output_type": "stream",
     "text": [
      "12.6\n",
      "0\n"
     ]
    },
    {
     "name": "stderr",
     "output_type": "stream",
     "text": [
      "C:\\Users\\71487\\AppData\\Local\\Temp\\ipykernel_14312\\77365528.py:2: FutureWarning: A value is trying to be set on a copy of a DataFrame or Series through chained assignment using an inplace method.\n",
      "The behavior will change in pandas 3.0. This inplace method will never work because the intermediate object on which we are setting values always behaves as a copy.\n",
      "\n",
      "For example, when doing 'df[col].method(value, inplace=True)', try using 'df.method({col: value}, inplace=True)' or df[col] = df[col].method(value) instead, to perform the operation inplace on the original object.\n",
      "\n",
      "\n",
      "  df2['Item_Weight'].fillna(df['Item_Weight'].median(),inplace=True)\n"
     ]
    }
   ],
   "source": [
    "df2 = df.copy()\n",
    "df2['Item_Weight'].fillna(df['Item_Weight'].median(),inplace=True)\n",
    "print(df2['Item_Weight'].median())\n",
    "print(df2['Item_Weight'].isnull().sum())"
   ]
  },
  {
   "cell_type": "code",
   "execution_count": 21,
   "id": "acab1cfb",
   "metadata": {},
   "outputs": [
    {
     "name": "stdout",
     "output_type": "stream",
     "text": [
      "Item_Identifier                 0\n",
      "Item_Weight                     0\n",
      "Item_Fat_Content                0\n",
      "Item_Visibility                 0\n",
      "Item_Type                       0\n",
      "Item_MRP                        0\n",
      "Outlet_Identifier               0\n",
      "Outlet_Establishment_Year       0\n",
      "Outlet_Size                  2410\n",
      "Outlet_Location_Type            0\n",
      "Outlet_Type                     0\n",
      "Item_Outlet_Sales               0\n",
      "dtype: int64\n"
     ]
    }
   ],
   "source": [
    "print(df2.isnull().sum())"
   ]
  },
  {
   "cell_type": "code",
   "execution_count": 71,
   "id": "ba06efe3",
   "metadata": {},
   "outputs": [
    {
     "data": {
      "application/vnd.microsoft.datawrangler.viewer.v0+json": {
       "columns": [
        {
         "name": "Item_Fat_Content",
         "rawType": "object",
         "type": "string"
        },
        {
         "name": "Item_Weight",
         "rawType": "float64",
         "type": "float"
        }
       ],
       "ref": "46cba5c4-09f9-42aa-bd0a-91289f5e98f8",
       "rows": [
        [
         "LF",
         "12.80321153846154"
        ],
        [
         "Low Fat",
         "12.953079109426811"
        ],
        [
         "Regular",
         "12.70583961474037"
        ],
        [
         "low fat",
         "12.563988095238095"
        ],
        [
         "reg",
         "12.842641509433962"
        ]
       ],
       "shape": {
        "columns": 1,
        "rows": 5
       }
      },
      "text/plain": [
       "Item_Fat_Content\n",
       "LF         12.803212\n",
       "Low Fat    12.953079\n",
       "Regular    12.705840\n",
       "low fat    12.563988\n",
       "reg        12.842642\n",
       "Name: Item_Weight, dtype: float64"
      ]
     },
     "execution_count": 71,
     "metadata": {},
     "output_type": "execute_result"
    }
   ],
   "source": [
    "df2 =df.copy()\n",
    "df2.groupby('Item_Fat_Content')['Item_Weight'].mean()"
   ]
  },
  {
   "cell_type": "code",
   "execution_count": 72,
   "id": "47971ca4",
   "metadata": {},
   "outputs": [
    {
     "data": {
      "application/vnd.microsoft.datawrangler.viewer.v0+json": {
       "columns": [
        {
         "name": "Item_Fat_Content",
         "rawType": "object",
         "type": "string"
        },
        {
         "name": "Item_Weight",
         "rawType": "float64",
         "type": "float"
        }
       ],
       "ref": "edce0bc6-4db6-4682-ba5b-71346dcce873",
       "rows": [
        [
         "Low Fat",
         "12.937387209811652"
        ],
        [
         "Regular",
         "12.711653969526866"
        ]
       ],
       "shape": {
        "columns": 1,
        "rows": 2
       }
      },
      "text/plain": [
       "Item_Fat_Content\n",
       "Low Fat    12.937387\n",
       "Regular    12.711654\n",
       "Name: Item_Weight, dtype: float64"
      ]
     },
     "execution_count": 72,
     "metadata": {},
     "output_type": "execute_result"
    }
   ],
   "source": [
    "df2['Item_Fat_Content'] = df2['Item_Fat_Content'].replace({'reg':'Regular','LF':'Low Fat','low fat':'Low Fat'})\n",
    "df2.groupby('Item_Fat_Content')['Item_Weight'].mean()"
   ]
  },
  {
   "cell_type": "code",
   "execution_count": 73,
   "id": "c4d467c3",
   "metadata": {},
   "outputs": [
    {
     "data": {
      "application/vnd.microsoft.datawrangler.viewer.v0+json": {
       "columns": [
        {
         "name": "Item_Type",
         "rawType": "object",
         "type": "string"
        },
        {
         "name": "Item_Weight",
         "rawType": "float64",
         "type": "float"
        }
       ],
       "ref": "62d53d68-6a22-449e-a8ec-30a56bedd125",
       "rows": [
        [
         "Baking Goods",
         "12.277108208955223"
        ],
        [
         "Breads",
         "11.346936274509805"
        ],
        [
         "Breakfast",
         "12.768202247191013"
        ],
        [
         "Canned",
         "12.305705009276437"
        ],
        [
         "Dairy",
         "13.42606890459364"
        ],
        [
         "Frozen Foods",
         "12.867061281337046"
        ],
        [
         "Fruits and Vegetables",
         "13.224769381746812"
        ],
        [
         "Hard Drinks",
         "11.400327868852461"
        ],
        [
         "Health and Hygiene",
         "13.14231395348837"
        ],
        [
         "Household",
         "13.384736495388669"
        ],
        [
         "Meat",
         "12.81734421364985"
        ],
        [
         "Others",
         "13.853284671532847"
        ],
        [
         "Seafood",
         "12.552843137254904"
        ],
        [
         "Snack Foods",
         "12.987879554655871"
        ],
        [
         "Soft Drinks",
         "11.847459893048129"
        ],
        [
         "Starchy Foods",
         "13.69073076923077"
        ]
       ],
       "shape": {
        "columns": 1,
        "rows": 16
       }
      },
      "text/plain": [
       "Item_Type\n",
       "Baking Goods             12.277108\n",
       "Breads                   11.346936\n",
       "Breakfast                12.768202\n",
       "Canned                   12.305705\n",
       "Dairy                    13.426069\n",
       "Frozen Foods             12.867061\n",
       "Fruits and Vegetables    13.224769\n",
       "Hard Drinks              11.400328\n",
       "Health and Hygiene       13.142314\n",
       "Household                13.384736\n",
       "Meat                     12.817344\n",
       "Others                   13.853285\n",
       "Seafood                  12.552843\n",
       "Snack Foods              12.987880\n",
       "Soft Drinks              11.847460\n",
       "Starchy Foods            13.690731\n",
       "Name: Item_Weight, dtype: float64"
      ]
     },
     "execution_count": 73,
     "metadata": {},
     "output_type": "execute_result"
    }
   ],
   "source": [
    "df2.groupby('Item_Type')['Item_Weight'].mean()"
   ]
  },
  {
   "cell_type": "code",
   "execution_count": 74,
   "id": "7028d358",
   "metadata": {},
   "outputs": [
    {
     "data": {
      "application/vnd.microsoft.datawrangler.viewer.v0+json": {
       "columns": [
        {
         "name": "Item_Type",
         "rawType": "object",
         "type": "string"
        },
        {
         "name": "Item_Weight",
         "rawType": "float64",
         "type": "float"
        }
       ],
       "ref": "aa9b3032-f262-42e0-865b-216d88e352ab",
       "rows": [
        [
         "Baking Goods",
         "12.287313851329738"
        ],
        [
         "Breads",
         "11.356276763993332"
        ],
        [
         "Breakfast",
         "12.782022070977153"
        ],
        [
         "Canned",
         "12.310580337127869"
        ],
        [
         "Dairy",
         "13.427226205336112"
        ],
        [
         "Frozen Foods",
         "12.86501049017738"
        ],
        [
         "Fruits and Vegetables",
         "13.221894382961"
        ],
        [
         "Hard Drinks",
         "11.400327868852457"
        ],
        [
         "Health and Hygiene",
         "13.142313953488372"
        ],
        [
         "Household",
         "13.384736495388669"
        ],
        [
         "Meat",
         "12.827564892830747"
        ],
        [
         "Others",
         "13.853284671532847"
        ],
        [
         "Seafood",
         "12.580419523902822"
        ],
        [
         "Snack Foods",
         "12.995951103509837"
        ],
        [
         "Soft Drinks",
         "11.84613902537083"
        ],
        [
         "Starchy Foods",
         "13.68855691719712"
        ]
       ],
       "shape": {
        "columns": 1,
        "rows": 16
       }
      },
      "text/plain": [
       "Item_Type\n",
       "Baking Goods             12.287314\n",
       "Breads                   11.356277\n",
       "Breakfast                12.782022\n",
       "Canned                   12.310580\n",
       "Dairy                    13.427226\n",
       "Frozen Foods             12.865010\n",
       "Fruits and Vegetables    13.221894\n",
       "Hard Drinks              11.400328\n",
       "Health and Hygiene       13.142314\n",
       "Household                13.384736\n",
       "Meat                     12.827565\n",
       "Others                   13.853285\n",
       "Seafood                  12.580420\n",
       "Snack Foods              12.995951\n",
       "Soft Drinks              11.846139\n",
       "Starchy Foods            13.688557\n",
       "Name: Item_Weight, dtype: float64"
      ]
     },
     "execution_count": 74,
     "metadata": {},
     "output_type": "execute_result"
    }
   ],
   "source": [
    "df2['Item_Weight'] = df2.groupby(['Item_Type', 'Item_Fat_Content'])['Item_Weight'].transform(\n",
    "    lambda x: x.fillna(x.mean())\n",
    ")\n",
    "df2.groupby('Item_Type')['Item_Weight'].mean()"
   ]
  },
  {
   "cell_type": "code",
   "execution_count": 128,
   "id": "cc09a493",
   "metadata": {},
   "outputs": [
    {
     "data": {
      "application/vnd.microsoft.datawrangler.viewer.v0+json": {
       "columns": [
        {
         "name": "index",
         "rawType": "object",
         "type": "string"
        },
        {
         "name": "0",
         "rawType": "int64",
         "type": "integer"
        }
       ],
       "ref": "558cb8b2-752f-4f46-bc97-8f054720d593",
       "rows": [
        [
         "Item_Identifier",
         "0"
        ],
        [
         "Item_Weight",
         "0"
        ],
        [
         "Item_Fat_Content",
         "0"
        ],
        [
         "Item_Visibility",
         "0"
        ],
        [
         "Item_Type",
         "0"
        ],
        [
         "Item_MRP",
         "0"
        ],
        [
         "Outlet_Identifier",
         "0"
        ],
        [
         "Outlet_Establishment_Year",
         "0"
        ],
        [
         "Outlet_Size",
         "2410"
        ],
        [
         "Outlet_Location_Type",
         "0"
        ],
        [
         "Outlet_Type",
         "0"
        ],
        [
         "Item_Outlet_Sales",
         "0"
        ]
       ],
       "shape": {
        "columns": 1,
        "rows": 12
       }
      },
      "text/plain": [
       "Item_Identifier                 0\n",
       "Item_Weight                     0\n",
       "Item_Fat_Content                0\n",
       "Item_Visibility                 0\n",
       "Item_Type                       0\n",
       "Item_MRP                        0\n",
       "Outlet_Identifier               0\n",
       "Outlet_Establishment_Year       0\n",
       "Outlet_Size                  2410\n",
       "Outlet_Location_Type            0\n",
       "Outlet_Type                     0\n",
       "Item_Outlet_Sales               0\n",
       "dtype: int64"
      ]
     },
     "execution_count": 128,
     "metadata": {},
     "output_type": "execute_result"
    }
   ],
   "source": [
    "df2.isnull().sum()"
   ]
  },
  {
   "cell_type": "markdown",
   "id": "1169d519",
   "metadata": {},
   "source": [
    "## Missing Values for Item_Size"
   ]
  },
  {
   "cell_type": "code",
   "execution_count": 115,
   "id": "4d0f76ad",
   "metadata": {},
   "outputs": [
    {
     "name": "stdout",
     "output_type": "stream",
     "text": [
      "Item_Identifier                 0\n",
      "Item_Weight                     0\n",
      "Item_Fat_Content                0\n",
      "Item_Visibility                 0\n",
      "Item_Type                       0\n",
      "Item_MRP                        0\n",
      "Outlet_Identifier               0\n",
      "Outlet_Establishment_Year       0\n",
      "Outlet_Size                  2410\n",
      "Outlet_Location_Type            0\n",
      "Outlet_Type                     0\n",
      "Item_Outlet_Sales               0\n",
      "dtype: int64\n"
     ]
    }
   ],
   "source": [
    "df3 = df2.copy()\n",
    "print(df3.isnull().sum())"
   ]
  },
  {
   "cell_type": "code",
   "execution_count": 101,
   "id": "2230a597",
   "metadata": {},
   "outputs": [
    {
     "data": {
      "application/vnd.microsoft.datawrangler.viewer.v0+json": {
       "columns": [
        {
         "name": "index",
         "rawType": "int64",
         "type": "integer"
        },
        {
         "name": "Item_Identifier",
         "rawType": "object",
         "type": "string"
        },
        {
         "name": "Item_Weight",
         "rawType": "float64",
         "type": "float"
        },
        {
         "name": "Item_Fat_Content",
         "rawType": "object",
         "type": "string"
        },
        {
         "name": "Item_Visibility",
         "rawType": "float64",
         "type": "float"
        },
        {
         "name": "Item_Type",
         "rawType": "object",
         "type": "string"
        },
        {
         "name": "Item_MRP",
         "rawType": "float64",
         "type": "float"
        },
        {
         "name": "Outlet_Identifier",
         "rawType": "object",
         "type": "string"
        },
        {
         "name": "Outlet_Establishment_Year",
         "rawType": "int64",
         "type": "integer"
        },
        {
         "name": "Outlet_Size",
         "rawType": "object",
         "type": "unknown"
        },
        {
         "name": "Outlet_Location_Type",
         "rawType": "object",
         "type": "string"
        },
        {
         "name": "Outlet_Type",
         "rawType": "object",
         "type": "string"
        },
        {
         "name": "Item_Outlet_Sales",
         "rawType": "float64",
         "type": "float"
        }
       ],
       "ref": "14b1dbba-4792-42a3-805f-002153c12a7d",
       "rows": [
        [
         "8",
         "FDH17",
         "16.2",
         "Regular",
         "0.016687114",
         "Frozen Foods",
         "96.9726",
         "OUT045",
         "2002",
         null,
         "Tier 2",
         "Supermarket Type1",
         "1076.5986"
        ],
        [
         "9",
         "FDU28",
         "19.2",
         "Regular",
         "0.09444959",
         "Frozen Foods",
         "187.8214",
         "OUT017",
         "2007",
         null,
         "Tier 2",
         "Supermarket Type1",
         "4710.535"
        ],
        [
         "19",
         "FDU02",
         "13.35",
         "Low Fat",
         "0.10249212",
         "Dairy",
         "230.5352",
         "OUT035",
         "2004",
         "Small",
         "Tier 2",
         "Supermarket Type1",
         "2748.4224"
        ],
        [
         "22",
         "NCB30",
         "14.6",
         "Low Fat",
         "0.025698134",
         "Household",
         "196.5084",
         "OUT035",
         "2004",
         "Small",
         "Tier 2",
         "Supermarket Type1",
         "1587.2672"
        ],
        [
         "25",
         "NCD06",
         "13.0",
         "Low Fat",
         "0.099887103",
         "Household",
         "45.906",
         "OUT017",
         "2007",
         null,
         "Tier 2",
         "Supermarket Type1",
         "838.908"
        ],
        [
         "26",
         "FDV10",
         "7.645",
         "Regular",
         "0.066693437",
         "Snack Foods",
         "42.3112",
         "OUT035",
         "2004",
         "Small",
         "Tier 2",
         "Supermarket Type1",
         "1065.28"
        ],
        [
         "33",
         "FDO23",
         "17.85",
         "Low Fat",
         "0.0",
         "Breads",
         "93.1436",
         "OUT045",
         "2002",
         null,
         "Tier 2",
         "Supermarket Type1",
         "2174.5028"
        ],
        [
         "46",
         "NCP05",
         "19.6",
         "Low Fat",
         "0.0",
         "Health and Hygiene",
         "153.3024",
         "OUT045",
         "2002",
         null,
         "Tier 2",
         "Supermarket Type1",
         "2428.8384"
        ],
        [
         "47",
         "FDV49",
         "10.0",
         "Low Fat",
         "0.025879577",
         "Canned",
         "265.2226",
         "OUT045",
         "2002",
         null,
         "Tier 2",
         "Supermarket Type1",
         "5815.0972"
        ],
        [
         "53",
         "FDA43",
         "10.895",
         "Low Fat",
         "0.065041581",
         "Fruits and Vegetables",
         "196.3794",
         "OUT017",
         "2007",
         null,
         "Tier 2",
         "Supermarket Type1",
         "3121.2704"
        ],
        [
         "54",
         "NCP18",
         "12.15",
         "Low Fat",
         "0.028760013",
         "Household",
         "151.4708",
         "OUT017",
         "2007",
         null,
         "Tier 2",
         "Supermarket Type1",
         "4815.0656"
        ],
        [
         "56",
         "NCX54",
         "9.195",
         "Low Fat",
         "0.048157338",
         "Household",
         "106.1622",
         "OUT045",
         "2002",
         null,
         "Tier 2",
         "Supermarket Type1",
         "2117.244"
        ],
        [
         "61",
         "FDV27",
         "7.97",
         "Regular",
         "0.040071131",
         "Meat",
         "87.3514",
         "OUT045",
         "2002",
         null,
         "Tier 2",
         "Supermarket Type1",
         "1062.6168"
        ],
        [
         "66",
         "FDH19",
         "19.35",
         "Low Fat",
         "0.033082215",
         "Meat",
         "172.5738",
         "OUT035",
         "2004",
         "Small",
         "Tier 2",
         "Supermarket Type1",
         "4865.6664"
        ],
        [
         "67",
         "FDZ03",
         "13.65",
         "Regular",
         "0.078946455",
         "Dairy",
         "186.024",
         "OUT045",
         "2002",
         null,
         "Tier 2",
         "Supermarket Type1",
         "1118.544"
        ],
        [
         "68",
         "DRH37",
         "17.6",
         "Low Fat",
         "0.041700756",
         "Soft Drinks",
         "164.8526",
         "OUT045",
         "2002",
         null,
         "Tier 2",
         "Supermarket Type1",
         "2302.3364"
        ],
        [
         "72",
         "FDH35",
         "18.25",
         "Low Fat",
         "0.0",
         "Starchy Foods",
         "164.7526",
         "OUT045",
         "2002",
         null,
         "Tier 2",
         "Supermarket Type1",
         "4604.6728"
        ],
        [
         "73",
         "FDG02",
         "7.855",
         "Low Fat",
         "0.011324862",
         "Canned",
         "189.6188",
         "OUT017",
         "2007",
         null,
         "Tier 2",
         "Supermarket Type1",
         "2285.0256"
        ],
        [
         "78",
         "FDL04",
         "19.0",
         "Low Fat",
         "0.112556507",
         "Frozen Foods",
         "104.9622",
         "OUT017",
         "2007",
         null,
         "Tier 2",
         "Supermarket Type1",
         "1587.933"
        ],
        [
         "79",
         "FDV25",
         "5.905",
         "Low Fat",
         "0.0",
         "Canned",
         "222.5456",
         "OUT045",
         "2002",
         null,
         "Tier 2",
         "Supermarket Type1",
         "5305.0944"
        ],
        [
         "85",
         "FDG20",
         "15.5",
         "Regular",
         "0.12639886",
         "Fruits and Vegetables",
         "177.0028",
         "OUT017",
         "2007",
         null,
         "Tier 2",
         "Supermarket Type1",
         "2479.4392"
        ],
        [
         "86",
         "FDZ55",
         "6.055",
         "Low Fat",
         "0.025403898",
         "Fruits and Vegetables",
         "160.992",
         "OUT035",
         "2004",
         "Small",
         "Tier 2",
         "Supermarket Type1",
         "2716.464"
        ],
        [
         "92",
         "DRI25",
         "19.6",
         "Low Fat",
         "0.033970195",
         "Soft Drinks",
         "55.1614",
         "OUT045",
         "2002",
         null,
         "Tier 2",
         "Supermarket Type1",
         "1381.535"
        ],
        [
         "93",
         "FDA44",
         "19.7",
         "Low Fat",
         "0.053212652",
         "Fruits and Vegetables",
         "57.893",
         "OUT035",
         "2004",
         "Small",
         "Tier 2",
         "Supermarket Type1",
         "622.523"
        ],
        [
         "94",
         "NCR17",
         "9.8",
         "Low Fat",
         "0.024378706",
         "Health and Hygiene",
         "114.5492",
         "OUT035",
         "2004",
         "Small",
         "Tier 2",
         "Supermarket Type1",
         "1274.3412"
        ],
        [
         "97",
         "FDB56",
         "8.75",
         "Regular",
         "0.07461309",
         "Fruits and Vegetables",
         "187.4556",
         "OUT035",
         "2004",
         "Small",
         "Tier 2",
         "Supermarket Type1",
         "3755.112"
        ],
        [
         "100",
         "FDT28",
         "13.3",
         "Low Fat",
         "0.063695084",
         "Frozen Foods",
         "151.0708",
         "OUT045",
         "2002",
         null,
         "Tier 2",
         "Supermarket Type1",
         "1805.6496"
        ],
        [
         "107",
         "FDG12",
         "6.635",
         "Regular",
         "0.0",
         "Baking Goods",
         "121.3098",
         "OUT045",
         "2002",
         null,
         "Tier 2",
         "Supermarket Type1",
         "2530.7058"
        ],
        [
         "111",
         "FDS52",
         "8.89",
         "Low Fat",
         "0.005505481",
         "Frozen Foods",
         "102.4016",
         "OUT017",
         "2007",
         null,
         "Tier 2",
         "Supermarket Type1",
         "2732.4432"
        ],
        [
         "114",
         "FDV11",
         "9.1",
         "Regular",
         "0.0",
         "Breads",
         "173.2054",
         "OUT045",
         "2002",
         null,
         "Tier 2",
         "Supermarket Type1",
         "3151.8972"
        ],
        [
         "116",
         "FDZ16",
         "16.85",
         "Regular",
         "0.160760054",
         "Frozen Foods",
         "192.4478",
         "OUT017",
         "2007",
         null,
         "Tier 2",
         "Supermarket Type1",
         "4843.695"
        ],
        [
         "117",
         "FDZ46",
         "7.485",
         "Low Fat",
         "0.06911065",
         "Snack Foods",
         "109.0228",
         "OUT035",
         "2004",
         "Small",
         "Tier 2",
         "Supermarket Type1",
         "2542.0244"
        ],
        [
         "118",
         "DRA12",
         "11.6",
         "Low Fat",
         "0.041177505",
         "Soft Drinks",
         "140.3154",
         "OUT017",
         "2007",
         null,
         "Tier 2",
         "Supermarket Type1",
         "2552.6772"
        ],
        [
         "120",
         "NCF19",
         "13.0",
         "Low Fat",
         "0.035307322",
         "Household",
         "47.5034",
         "OUT017",
         "2007",
         null,
         "Tier 2",
         "Supermarket Type1",
         "680.4476"
        ],
        [
         "121",
         "DRJ13",
         "12.65",
         "Low Fat",
         "0.063017847",
         "Soft Drinks",
         "159.0578",
         "OUT045",
         "2002",
         null,
         "Tier 2",
         "Supermarket Type1",
         "2085.9514"
        ],
        [
         "123",
         "FDJ38",
         "8.6",
         "Regular",
         "0.040197932",
         "Canned",
         "190.153",
         "OUT035",
         "2004",
         "Small",
         "Tier 2",
         "Supermarket Type1",
         "3036.048"
        ],
        [
         "124",
         "FDW11",
         "12.6",
         "Low Fat",
         "0.049058014",
         "Breads",
         "62.7194",
         "OUT017",
         "2007",
         null,
         "Tier 2",
         "Supermarket Type1",
         "866.8716"
        ],
        [
         "125",
         "FDL40",
         "17.7",
         "Low Fat",
         "0.01161096",
         "Frozen Foods",
         "95.041",
         "OUT035",
         "2004",
         "Small",
         "Tier 2",
         "Supermarket Type1",
         "868.869"
        ],
        [
         "127",
         "FDV38",
         "19.25",
         "Low Fat",
         "0.102349519",
         "Dairy",
         "52.7956",
         "OUT017",
         "2007",
         null,
         "Tier 2",
         "Supermarket Type1",
         "928.1252"
        ],
        [
         "129",
         "NCP30",
         "20.5",
         "Low Fat",
         "0.032835147",
         "Household",
         "40.2822",
         "OUT045",
         "2002",
         null,
         "Tier 2",
         "Supermarket Type1",
         "707.0796"
        ],
        [
         "137",
         "FDB51",
         "6.92",
         "Low Fat",
         "0.038532062",
         "Dairy",
         "60.5852",
         "OUT045",
         "2002",
         null,
         "Tier 2",
         "Supermarket Type1",
         "1314.2892"
        ],
        [
         "138",
         "FDX44",
         "9.3",
         "Low Fat",
         "0.043209581",
         "Fruits and Vegetables",
         "90.8172",
         "OUT017",
         "2007",
         null,
         "Tier 2",
         "Supermarket Type1",
         "535.3032"
        ],
        [
         "140",
         "NCC31",
         "8.02",
         "Low Fat",
         "0.019866705",
         "Household",
         "154.5972",
         "OUT035",
         "2004",
         "Small",
         "Tier 2",
         "Supermarket Type1",
         "1402.1748"
        ],
        [
         "141",
         "NCX54",
         "9.195",
         "Low Fat",
         "0.048331717",
         "Household",
         "105.1622",
         "OUT017",
         "2007",
         null,
         "Tier 2",
         "Supermarket Type1",
         "1693.7952"
        ],
        [
         "142",
         "NCO55",
         "12.8",
         "Low Fat",
         "0.091221855",
         "Others",
         "105.5938",
         "OUT045",
         "2002",
         null,
         "Tier 2",
         "Supermarket Type1",
         "2143.876"
        ],
        [
         "144",
         "FDI16",
         "14.0",
         "Regular",
         "0.0",
         "Frozen Foods",
         "53.064",
         "OUT035",
         "2004",
         "Small",
         "Tier 2",
         "Supermarket Type1",
         "905.488"
        ],
        [
         "146",
         "FDB11",
         "16.0",
         "Low Fat",
         "0.060836524",
         "Starchy Foods",
         "226.8404",
         "OUT035",
         "2004",
         "Small",
         "Tier 2",
         "Supermarket Type1",
         "6301.1312"
        ],
        [
         "147",
         "NCB06",
         "17.6",
         "Low Fat",
         "0.082316506",
         "Health and Hygiene",
         "160.692",
         "OUT035",
         "2004",
         "Small",
         "Tier 2",
         "Supermarket Type1",
         "1597.92"
        ],
        [
         "148",
         "FDA45",
         "21.25",
         "Low Fat",
         "0.155350299",
         "Snack Foods",
         "178.237",
         "OUT035",
         "2004",
         "Small",
         "Tier 2",
         "Supermarket Type1",
         "529.311"
        ],
        [
         "149",
         "NCO26",
         "7.235",
         "Low Fat",
         "0.076841095",
         "Household",
         "117.5492",
         "OUT035",
         "2004",
         "Small",
         "Tier 2",
         "Supermarket Type1",
         "1969.4364"
        ]
       ],
       "shape": {
        "columns": 12,
        "rows": 2785
       }
      },
      "text/html": [
       "<div>\n",
       "<style scoped>\n",
       "    .dataframe tbody tr th:only-of-type {\n",
       "        vertical-align: middle;\n",
       "    }\n",
       "\n",
       "    .dataframe tbody tr th {\n",
       "        vertical-align: top;\n",
       "    }\n",
       "\n",
       "    .dataframe thead th {\n",
       "        text-align: right;\n",
       "    }\n",
       "</style>\n",
       "<table border=\"1\" class=\"dataframe\">\n",
       "  <thead>\n",
       "    <tr style=\"text-align: right;\">\n",
       "      <th></th>\n",
       "      <th>Item_Identifier</th>\n",
       "      <th>Item_Weight</th>\n",
       "      <th>Item_Fat_Content</th>\n",
       "      <th>Item_Visibility</th>\n",
       "      <th>Item_Type</th>\n",
       "      <th>Item_MRP</th>\n",
       "      <th>Outlet_Identifier</th>\n",
       "      <th>Outlet_Establishment_Year</th>\n",
       "      <th>Outlet_Size</th>\n",
       "      <th>Outlet_Location_Type</th>\n",
       "      <th>Outlet_Type</th>\n",
       "      <th>Item_Outlet_Sales</th>\n",
       "    </tr>\n",
       "  </thead>\n",
       "  <tbody>\n",
       "    <tr>\n",
       "      <th>8</th>\n",
       "      <td>FDH17</td>\n",
       "      <td>16.20</td>\n",
       "      <td>Regular</td>\n",
       "      <td>0.016687</td>\n",
       "      <td>Frozen Foods</td>\n",
       "      <td>96.9726</td>\n",
       "      <td>OUT045</td>\n",
       "      <td>2002</td>\n",
       "      <td>NaN</td>\n",
       "      <td>Tier 2</td>\n",
       "      <td>Supermarket Type1</td>\n",
       "      <td>1076.5986</td>\n",
       "    </tr>\n",
       "    <tr>\n",
       "      <th>9</th>\n",
       "      <td>FDU28</td>\n",
       "      <td>19.20</td>\n",
       "      <td>Regular</td>\n",
       "      <td>0.094450</td>\n",
       "      <td>Frozen Foods</td>\n",
       "      <td>187.8214</td>\n",
       "      <td>OUT017</td>\n",
       "      <td>2007</td>\n",
       "      <td>NaN</td>\n",
       "      <td>Tier 2</td>\n",
       "      <td>Supermarket Type1</td>\n",
       "      <td>4710.5350</td>\n",
       "    </tr>\n",
       "    <tr>\n",
       "      <th>19</th>\n",
       "      <td>FDU02</td>\n",
       "      <td>13.35</td>\n",
       "      <td>Low Fat</td>\n",
       "      <td>0.102492</td>\n",
       "      <td>Dairy</td>\n",
       "      <td>230.5352</td>\n",
       "      <td>OUT035</td>\n",
       "      <td>2004</td>\n",
       "      <td>Small</td>\n",
       "      <td>Tier 2</td>\n",
       "      <td>Supermarket Type1</td>\n",
       "      <td>2748.4224</td>\n",
       "    </tr>\n",
       "    <tr>\n",
       "      <th>22</th>\n",
       "      <td>NCB30</td>\n",
       "      <td>14.60</td>\n",
       "      <td>Low Fat</td>\n",
       "      <td>0.025698</td>\n",
       "      <td>Household</td>\n",
       "      <td>196.5084</td>\n",
       "      <td>OUT035</td>\n",
       "      <td>2004</td>\n",
       "      <td>Small</td>\n",
       "      <td>Tier 2</td>\n",
       "      <td>Supermarket Type1</td>\n",
       "      <td>1587.2672</td>\n",
       "    </tr>\n",
       "    <tr>\n",
       "      <th>25</th>\n",
       "      <td>NCD06</td>\n",
       "      <td>13.00</td>\n",
       "      <td>Low Fat</td>\n",
       "      <td>0.099887</td>\n",
       "      <td>Household</td>\n",
       "      <td>45.9060</td>\n",
       "      <td>OUT017</td>\n",
       "      <td>2007</td>\n",
       "      <td>NaN</td>\n",
       "      <td>Tier 2</td>\n",
       "      <td>Supermarket Type1</td>\n",
       "      <td>838.9080</td>\n",
       "    </tr>\n",
       "    <tr>\n",
       "      <th>...</th>\n",
       "      <td>...</td>\n",
       "      <td>...</td>\n",
       "      <td>...</td>\n",
       "      <td>...</td>\n",
       "      <td>...</td>\n",
       "      <td>...</td>\n",
       "      <td>...</td>\n",
       "      <td>...</td>\n",
       "      <td>...</td>\n",
       "      <td>...</td>\n",
       "      <td>...</td>\n",
       "      <td>...</td>\n",
       "    </tr>\n",
       "    <tr>\n",
       "      <th>8510</th>\n",
       "      <td>FDN58</td>\n",
       "      <td>13.80</td>\n",
       "      <td>Regular</td>\n",
       "      <td>0.056862</td>\n",
       "      <td>Snack Foods</td>\n",
       "      <td>231.5984</td>\n",
       "      <td>OUT035</td>\n",
       "      <td>2004</td>\n",
       "      <td>Small</td>\n",
       "      <td>Tier 2</td>\n",
       "      <td>Supermarket Type1</td>\n",
       "      <td>7182.6504</td>\n",
       "    </tr>\n",
       "    <tr>\n",
       "      <th>8513</th>\n",
       "      <td>FDH31</td>\n",
       "      <td>12.00</td>\n",
       "      <td>Regular</td>\n",
       "      <td>0.020407</td>\n",
       "      <td>Meat</td>\n",
       "      <td>99.9042</td>\n",
       "      <td>OUT035</td>\n",
       "      <td>2004</td>\n",
       "      <td>Small</td>\n",
       "      <td>Tier 2</td>\n",
       "      <td>Supermarket Type1</td>\n",
       "      <td>595.2252</td>\n",
       "    </tr>\n",
       "    <tr>\n",
       "      <th>8514</th>\n",
       "      <td>FDA01</td>\n",
       "      <td>15.00</td>\n",
       "      <td>Regular</td>\n",
       "      <td>0.054489</td>\n",
       "      <td>Canned</td>\n",
       "      <td>57.5904</td>\n",
       "      <td>OUT045</td>\n",
       "      <td>2002</td>\n",
       "      <td>NaN</td>\n",
       "      <td>Tier 2</td>\n",
       "      <td>Supermarket Type1</td>\n",
       "      <td>468.7232</td>\n",
       "    </tr>\n",
       "    <tr>\n",
       "      <th>8519</th>\n",
       "      <td>FDS36</td>\n",
       "      <td>8.38</td>\n",
       "      <td>Regular</td>\n",
       "      <td>0.046982</td>\n",
       "      <td>Baking Goods</td>\n",
       "      <td>108.1570</td>\n",
       "      <td>OUT045</td>\n",
       "      <td>2002</td>\n",
       "      <td>NaN</td>\n",
       "      <td>Tier 2</td>\n",
       "      <td>Supermarket Type1</td>\n",
       "      <td>549.2850</td>\n",
       "    </tr>\n",
       "    <tr>\n",
       "      <th>8520</th>\n",
       "      <td>NCJ29</td>\n",
       "      <td>10.60</td>\n",
       "      <td>Low Fat</td>\n",
       "      <td>0.035186</td>\n",
       "      <td>Health and Hygiene</td>\n",
       "      <td>85.1224</td>\n",
       "      <td>OUT035</td>\n",
       "      <td>2004</td>\n",
       "      <td>Small</td>\n",
       "      <td>Tier 2</td>\n",
       "      <td>Supermarket Type1</td>\n",
       "      <td>1193.1136</td>\n",
       "    </tr>\n",
       "  </tbody>\n",
       "</table>\n",
       "<p>2785 rows × 12 columns</p>\n",
       "</div>"
      ],
      "text/plain": [
       "     Item_Identifier  Item_Weight Item_Fat_Content  Item_Visibility  \\\n",
       "8              FDH17        16.20          Regular         0.016687   \n",
       "9              FDU28        19.20          Regular         0.094450   \n",
       "19             FDU02        13.35          Low Fat         0.102492   \n",
       "22             NCB30        14.60          Low Fat         0.025698   \n",
       "25             NCD06        13.00          Low Fat         0.099887   \n",
       "...              ...          ...              ...              ...   \n",
       "8510           FDN58        13.80          Regular         0.056862   \n",
       "8513           FDH31        12.00          Regular         0.020407   \n",
       "8514           FDA01        15.00          Regular         0.054489   \n",
       "8519           FDS36         8.38          Regular         0.046982   \n",
       "8520           NCJ29        10.60          Low Fat         0.035186   \n",
       "\n",
       "               Item_Type  Item_MRP Outlet_Identifier  \\\n",
       "8           Frozen Foods   96.9726            OUT045   \n",
       "9           Frozen Foods  187.8214            OUT017   \n",
       "19                 Dairy  230.5352            OUT035   \n",
       "22             Household  196.5084            OUT035   \n",
       "25             Household   45.9060            OUT017   \n",
       "...                  ...       ...               ...   \n",
       "8510         Snack Foods  231.5984            OUT035   \n",
       "8513                Meat   99.9042            OUT035   \n",
       "8514              Canned   57.5904            OUT045   \n",
       "8519        Baking Goods  108.1570            OUT045   \n",
       "8520  Health and Hygiene   85.1224            OUT035   \n",
       "\n",
       "      Outlet_Establishment_Year Outlet_Size Outlet_Location_Type  \\\n",
       "8                          2002         NaN               Tier 2   \n",
       "9                          2007         NaN               Tier 2   \n",
       "19                         2004       Small               Tier 2   \n",
       "22                         2004       Small               Tier 2   \n",
       "25                         2007         NaN               Tier 2   \n",
       "...                         ...         ...                  ...   \n",
       "8510                       2004       Small               Tier 2   \n",
       "8513                       2004       Small               Tier 2   \n",
       "8514                       2002         NaN               Tier 2   \n",
       "8519                       2002         NaN               Tier 2   \n",
       "8520                       2004       Small               Tier 2   \n",
       "\n",
       "            Outlet_Type  Item_Outlet_Sales  \n",
       "8     Supermarket Type1          1076.5986  \n",
       "9     Supermarket Type1          4710.5350  \n",
       "19    Supermarket Type1          2748.4224  \n",
       "22    Supermarket Type1          1587.2672  \n",
       "25    Supermarket Type1           838.9080  \n",
       "...                 ...                ...  \n",
       "8510  Supermarket Type1          7182.6504  \n",
       "8513  Supermarket Type1           595.2252  \n",
       "8514  Supermarket Type1           468.7232  \n",
       "8519  Supermarket Type1           549.2850  \n",
       "8520  Supermarket Type1          1193.1136  \n",
       "\n",
       "[2785 rows x 12 columns]"
      ]
     },
     "execution_count": 101,
     "metadata": {},
     "output_type": "execute_result"
    }
   ],
   "source": [
    "df3[(df3['Outlet_Type']=='Supermarket Type1')& (df3['Outlet_Location_Type']=='Tier 2')]"
   ]
  },
  {
   "cell_type": "code",
   "execution_count": 116,
   "id": "72bb0336",
   "metadata": {},
   "outputs": [
    {
     "data": {
      "application/vnd.microsoft.datawrangler.viewer.v0+json": {
       "columns": [
        {
         "name": "Outlet_Type",
         "rawType": "object",
         "type": "string"
        },
        {
         "name": "High",
         "rawType": "int64",
         "type": "integer"
        },
        {
         "name": "Medium",
         "rawType": "int64",
         "type": "integer"
        },
        {
         "name": "Small",
         "rawType": "int64",
         "type": "integer"
        }
       ],
       "ref": "002d800a-9694-409e-b38f-c3214ef6641c",
       "rows": [
        [
         "Grocery Store",
         "0",
         "0",
         "528"
        ],
        [
         "Supermarket Type1",
         "932",
         "930",
         "1860"
        ],
        [
         "Supermarket Type2",
         "0",
         "928",
         "0"
        ],
        [
         "Supermarket Type3",
         "0",
         "935",
         "0"
        ]
       ],
       "shape": {
        "columns": 3,
        "rows": 4
       }
      },
      "text/html": [
       "<div>\n",
       "<style scoped>\n",
       "    .dataframe tbody tr th:only-of-type {\n",
       "        vertical-align: middle;\n",
       "    }\n",
       "\n",
       "    .dataframe tbody tr th {\n",
       "        vertical-align: top;\n",
       "    }\n",
       "\n",
       "    .dataframe thead th {\n",
       "        text-align: right;\n",
       "    }\n",
       "</style>\n",
       "<table border=\"1\" class=\"dataframe\">\n",
       "  <thead>\n",
       "    <tr style=\"text-align: right;\">\n",
       "      <th>Outlet_Size</th>\n",
       "      <th>High</th>\n",
       "      <th>Medium</th>\n",
       "      <th>Small</th>\n",
       "    </tr>\n",
       "    <tr>\n",
       "      <th>Outlet_Type</th>\n",
       "      <th></th>\n",
       "      <th></th>\n",
       "      <th></th>\n",
       "    </tr>\n",
       "  </thead>\n",
       "  <tbody>\n",
       "    <tr>\n",
       "      <th>Grocery Store</th>\n",
       "      <td>0</td>\n",
       "      <td>0</td>\n",
       "      <td>528</td>\n",
       "    </tr>\n",
       "    <tr>\n",
       "      <th>Supermarket Type1</th>\n",
       "      <td>932</td>\n",
       "      <td>930</td>\n",
       "      <td>1860</td>\n",
       "    </tr>\n",
       "    <tr>\n",
       "      <th>Supermarket Type2</th>\n",
       "      <td>0</td>\n",
       "      <td>928</td>\n",
       "      <td>0</td>\n",
       "    </tr>\n",
       "    <tr>\n",
       "      <th>Supermarket Type3</th>\n",
       "      <td>0</td>\n",
       "      <td>935</td>\n",
       "      <td>0</td>\n",
       "    </tr>\n",
       "  </tbody>\n",
       "</table>\n",
       "</div>"
      ],
      "text/plain": [
       "Outlet_Size        High  Medium  Small\n",
       "Outlet_Type                           \n",
       "Grocery Store         0       0    528\n",
       "Supermarket Type1   932     930   1860\n",
       "Supermarket Type2     0     928      0\n",
       "Supermarket Type3     0     935      0"
      ]
     },
     "execution_count": 116,
     "metadata": {},
     "output_type": "execute_result"
    }
   ],
   "source": [
    "pd.crosstab(df3['Outlet_Type'], df3['Outlet_Size'])"
   ]
  },
  {
   "cell_type": "code",
   "execution_count": 118,
   "id": "0b4d516d",
   "metadata": {},
   "outputs": [],
   "source": [
    "df3.loc[(df3['Outlet_Type'] == 'Grocery Store') & (df3['Outlet_Size'].isna()), 'Outlet_Size'] = 'Small'\n",
    "df3.loc[(df3['Outlet_Type'] == 'Supermarket Type2') & (df3['Outlet_Size'].isna()), 'Outlet_Size'] = 'Medium'\n",
    "df3.loc[(df3['Outlet_Type'] == 'Supermarket Type3') & (df3['Outlet_Size'].isna()), 'Outlet_Size'] = 'Medium'"
   ]
  },
  {
   "cell_type": "code",
   "execution_count": 119,
   "id": "ca862790",
   "metadata": {},
   "outputs": [
    {
     "name": "stdout",
     "output_type": "stream",
     "text": [
      "Item_Identifier                 0\n",
      "Item_Weight                     0\n",
      "Item_Fat_Content                0\n",
      "Item_Visibility                 0\n",
      "Item_Type                       0\n",
      "Item_MRP                        0\n",
      "Outlet_Identifier               0\n",
      "Outlet_Establishment_Year       0\n",
      "Outlet_Size                  1855\n",
      "Outlet_Location_Type            0\n",
      "Outlet_Type                     0\n",
      "Item_Outlet_Sales               0\n",
      "dtype: int64\n"
     ]
    }
   ],
   "source": [
    "print(df3.isnull().sum())"
   ]
  },
  {
   "cell_type": "code",
   "execution_count": 120,
   "id": "0a835005",
   "metadata": {},
   "outputs": [
    {
     "data": {
      "application/vnd.microsoft.datawrangler.viewer.v0+json": {
       "columns": [
        {
         "name": "Outlet_Size",
         "rawType": "object",
         "type": "string"
        },
        {
         "name": "Item_Outlet_Sales",
         "rawType": "float64",
         "type": "float"
        }
       ],
       "ref": "077dfa49-8da9-4699-9e30-4d4bfcc1e585",
       "rows": [
        [
         "High",
         "2298.995255579399"
        ],
        [
         "Medium",
         "2681.603541568206"
        ],
        [
         "Small",
         "1615.546167040435"
        ]
       ],
       "shape": {
        "columns": 1,
        "rows": 3
       }
      },
      "text/plain": [
       "Outlet_Size\n",
       "High      2298.995256\n",
       "Medium    2681.603542\n",
       "Small     1615.546167\n",
       "Name: Item_Outlet_Sales, dtype: float64"
      ]
     },
     "execution_count": 120,
     "metadata": {},
     "output_type": "execute_result"
    }
   ],
   "source": [
    "df3.groupby(['Outlet_Size'])['Item_Outlet_Sales'].mean()"
   ]
  },
  {
   "cell_type": "code",
   "execution_count": 121,
   "id": "de6c16d5",
   "metadata": {},
   "outputs": [
    {
     "data": {
      "application/vnd.microsoft.datawrangler.viewer.v0+json": {
       "columns": [
        {
         "name": "Outlet_Type",
         "rawType": "object",
         "type": "string"
        },
        {
         "name": "Item_Outlet_Sales",
         "rawType": "float64",
         "type": "float"
        }
       ],
       "ref": "350a4103-c052-4312-8303-324ee731d69d",
       "rows": [
        [
         "Supermarket Type1",
         "2340.67526349892"
        ]
       ],
       "shape": {
        "columns": 1,
        "rows": 1
       }
      },
      "text/plain": [
       "Outlet_Type\n",
       "Supermarket Type1    2340.675263\n",
       "Name: Item_Outlet_Sales, dtype: float64"
      ]
     },
     "execution_count": 121,
     "metadata": {},
     "output_type": "execute_result"
    }
   ],
   "source": [
    "df3[df3['Outlet_Identifier'] == 'OUT017'].groupby([ 'Outlet_Type'])['Item_Outlet_Sales'].mean()"
   ]
  },
  {
   "cell_type": "code",
   "execution_count": 122,
   "id": "fba80a26",
   "metadata": {},
   "outputs": [
    {
     "data": {
      "application/vnd.microsoft.datawrangler.viewer.v0+json": {
       "columns": [
        {
         "name": "Outlet_Type",
         "rawType": "object",
         "type": "string"
        },
        {
         "name": "Item_Outlet_Sales",
         "rawType": "float64",
         "type": "float"
        }
       ],
       "ref": "89e818d2-d110-4b05-9813-587dcdacc126",
       "rows": [
        [
         "Supermarket Type1",
         "2192.384797631862"
        ]
       ],
       "shape": {
        "columns": 1,
        "rows": 1
       }
      },
      "text/plain": [
       "Outlet_Type\n",
       "Supermarket Type1    2192.384798\n",
       "Name: Item_Outlet_Sales, dtype: float64"
      ]
     },
     "execution_count": 122,
     "metadata": {},
     "output_type": "execute_result"
    }
   ],
   "source": [
    "df3[df3['Outlet_Identifier'] == 'OUT045'].groupby([ 'Outlet_Type'])['Item_Outlet_Sales'].mean()"
   ]
  },
  {
   "cell_type": "code",
   "execution_count": null,
   "id": "797a04b6",
   "metadata": {},
   "outputs": [],
   "source": [
    "#Mengisi NA sesuai dengan Mean \n",
    "df3.loc[\n",
    "    (df3['Outlet_Identifier'] == 'OUT017') & (df3['Outlet_Size'].isna()),\n",
    "    'Outlet_Size'\n",
    "] = 'Medium'\n",
    "df3.loc[\n",
    "    (df3['Outlet_Identifier'] == 'OUT045') & (df3['Outlet_Size'].isna()),\n",
    "    'Outlet_Size'\n",
    "] = 'High'"
   ]
  },
  {
   "cell_type": "code",
   "execution_count": 124,
   "id": "0b86e4cc",
   "metadata": {},
   "outputs": [
    {
     "data": {
      "application/vnd.microsoft.datawrangler.viewer.v0+json": {
       "columns": [
        {
         "name": "Outlet_Size",
         "rawType": "object",
         "type": "string"
        },
        {
         "name": "Item_Outlet_Sales",
         "rawType": "float64",
         "type": "float"
        }
       ],
       "ref": "2eb5e65d-7f0d-48d9-994c-ddf9a50e3b73",
       "rows": [
        [
         "High",
         "2245.7759565824826"
        ],
        [
         "Medium",
         "2596.7152421618716"
        ],
        [
         "Small",
         "1615.546167040435"
        ]
       ],
       "shape": {
        "columns": 1,
        "rows": 3
       }
      },
      "text/plain": [
       "Outlet_Size\n",
       "High      2245.775957\n",
       "Medium    2596.715242\n",
       "Small     1615.546167\n",
       "Name: Item_Outlet_Sales, dtype: float64"
      ]
     },
     "execution_count": 124,
     "metadata": {},
     "output_type": "execute_result"
    }
   ],
   "source": [
    "df3.groupby(['Outlet_Size'])['Item_Outlet_Sales'].mean()"
   ]
  },
  {
   "cell_type": "code",
   "execution_count": 125,
   "id": "221f3fd1",
   "metadata": {},
   "outputs": [
    {
     "data": {
      "application/vnd.microsoft.datawrangler.viewer.v0+json": {
       "columns": [
        {
         "name": "index",
         "rawType": "object",
         "type": "string"
        },
        {
         "name": "0",
         "rawType": "int64",
         "type": "integer"
        }
       ],
       "ref": "fc8631be-29fd-4314-aa88-8003de89e1b8",
       "rows": [
        [
         "Item_Identifier",
         "0"
        ],
        [
         "Item_Weight",
         "0"
        ],
        [
         "Item_Fat_Content",
         "0"
        ],
        [
         "Item_Visibility",
         "0"
        ],
        [
         "Item_Type",
         "0"
        ],
        [
         "Item_MRP",
         "0"
        ],
        [
         "Outlet_Identifier",
         "0"
        ],
        [
         "Outlet_Establishment_Year",
         "0"
        ],
        [
         "Outlet_Size",
         "0"
        ],
        [
         "Outlet_Location_Type",
         "0"
        ],
        [
         "Outlet_Type",
         "0"
        ],
        [
         "Item_Outlet_Sales",
         "0"
        ]
       ],
       "shape": {
        "columns": 1,
        "rows": 12
       }
      },
      "text/plain": [
       "Item_Identifier              0\n",
       "Item_Weight                  0\n",
       "Item_Fat_Content             0\n",
       "Item_Visibility              0\n",
       "Item_Type                    0\n",
       "Item_MRP                     0\n",
       "Outlet_Identifier            0\n",
       "Outlet_Establishment_Year    0\n",
       "Outlet_Size                  0\n",
       "Outlet_Location_Type         0\n",
       "Outlet_Type                  0\n",
       "Item_Outlet_Sales            0\n",
       "dtype: int64"
      ]
     },
     "execution_count": 125,
     "metadata": {},
     "output_type": "execute_result"
    }
   ],
   "source": [
    "df3.isnull().sum()"
   ]
  },
  {
   "cell_type": "code",
   "execution_count": 126,
   "id": "95f420bf",
   "metadata": {},
   "outputs": [
    {
     "data": {
      "application/vnd.microsoft.datawrangler.viewer.v0+json": {
       "columns": [
        {
         "name": "Outlet_Type",
         "rawType": "object",
         "type": "string"
        },
        {
         "name": "High",
         "rawType": "int64",
         "type": "integer"
        },
        {
         "name": "Medium",
         "rawType": "int64",
         "type": "integer"
        },
        {
         "name": "Small",
         "rawType": "int64",
         "type": "integer"
        }
       ],
       "ref": "43061c9b-e2bb-4a44-91c7-243385253ebb",
       "rows": [
        [
         "Grocery Store",
         "0",
         "0",
         "1083"
        ],
        [
         "Supermarket Type1",
         "1861",
         "1856",
         "1860"
        ],
        [
         "Supermarket Type2",
         "0",
         "928",
         "0"
        ],
        [
         "Supermarket Type3",
         "0",
         "935",
         "0"
        ]
       ],
       "shape": {
        "columns": 3,
        "rows": 4
       }
      },
      "text/html": [
       "<div>\n",
       "<style scoped>\n",
       "    .dataframe tbody tr th:only-of-type {\n",
       "        vertical-align: middle;\n",
       "    }\n",
       "\n",
       "    .dataframe tbody tr th {\n",
       "        vertical-align: top;\n",
       "    }\n",
       "\n",
       "    .dataframe thead th {\n",
       "        text-align: right;\n",
       "    }\n",
       "</style>\n",
       "<table border=\"1\" class=\"dataframe\">\n",
       "  <thead>\n",
       "    <tr style=\"text-align: right;\">\n",
       "      <th>Outlet_Size</th>\n",
       "      <th>High</th>\n",
       "      <th>Medium</th>\n",
       "      <th>Small</th>\n",
       "    </tr>\n",
       "    <tr>\n",
       "      <th>Outlet_Type</th>\n",
       "      <th></th>\n",
       "      <th></th>\n",
       "      <th></th>\n",
       "    </tr>\n",
       "  </thead>\n",
       "  <tbody>\n",
       "    <tr>\n",
       "      <th>Grocery Store</th>\n",
       "      <td>0</td>\n",
       "      <td>0</td>\n",
       "      <td>1083</td>\n",
       "    </tr>\n",
       "    <tr>\n",
       "      <th>Supermarket Type1</th>\n",
       "      <td>1861</td>\n",
       "      <td>1856</td>\n",
       "      <td>1860</td>\n",
       "    </tr>\n",
       "    <tr>\n",
       "      <th>Supermarket Type2</th>\n",
       "      <td>0</td>\n",
       "      <td>928</td>\n",
       "      <td>0</td>\n",
       "    </tr>\n",
       "    <tr>\n",
       "      <th>Supermarket Type3</th>\n",
       "      <td>0</td>\n",
       "      <td>935</td>\n",
       "      <td>0</td>\n",
       "    </tr>\n",
       "  </tbody>\n",
       "</table>\n",
       "</div>"
      ],
      "text/plain": [
       "Outlet_Size        High  Medium  Small\n",
       "Outlet_Type                           \n",
       "Grocery Store         0       0   1083\n",
       "Supermarket Type1  1861    1856   1860\n",
       "Supermarket Type2     0     928      0\n",
       "Supermarket Type3     0     935      0"
      ]
     },
     "execution_count": 126,
     "metadata": {},
     "output_type": "execute_result"
    }
   ],
   "source": [
    "pd.crosstab(df3['Outlet_Type'], df3['Outlet_Size'])"
   ]
  },
  {
   "cell_type": "code",
   "execution_count": null,
   "id": "6decdd16",
   "metadata": {},
   "outputs": [],
   "source": [
    "# Manipulasi data lain dengan menggunakan proporsi (tidak terpakai)\n",
    "missing_idx = df3[(df3['Outlet_Type'] == 'Supermarket Type1') & (df3['Outlet_Size'].isna())].index\n",
    "n_missing = len(missing_idx)\n",
    "print(n_missing)\n",
    "\n",
    "n_high = n_missing//4\n",
    "n_medium = n_missing//4\n",
    "n_small = n_missing -(n_high+n_medium)\n",
    "\n",
    "fill_values = ['High'] * n_high + ['Medium'] * n_medium + ['Small'] * n_small\n",
    "print(fill_values)\n",
    "import random\n",
    "random.shuffle(fill_values)\n",
    "\n",
    "df3.loc[missing_idx,'Outlet_Size'] = fill_values"
   ]
  }
 ],
 "metadata": {
  "kernelspec": {
   "display_name": "myvenv",
   "language": "python",
   "name": "python3"
  },
  "language_info": {
   "codemirror_mode": {
    "name": "ipython",
    "version": 3
   },
   "file_extension": ".py",
   "mimetype": "text/x-python",
   "name": "python",
   "nbconvert_exporter": "python",
   "pygments_lexer": "ipython3",
   "version": "3.13.3"
  }
 },
 "nbformat": 4,
 "nbformat_minor": 5
}
