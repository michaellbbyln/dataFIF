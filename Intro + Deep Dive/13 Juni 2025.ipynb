{
 "cells": [
  {
   "cell_type": "markdown",
   "id": "a91d8f2e",
   "metadata": {},
   "source": [
    "# PANDAS 🐼\n"
   ]
  },
  {
   "cell_type": "code",
   "execution_count": 4,
   "id": "090cd7b2",
   "metadata": {},
   "outputs": [],
   "source": [
    "import pandas as pd"
   ]
  },
  {
   "cell_type": "code",
   "execution_count": null,
   "id": "3822ea38",
   "metadata": {},
   "outputs": [
    {
     "name": "stdout",
     "output_type": "stream",
     "text": [
      "   0\n",
      "0  1\n",
      "1  2\n",
      "2  3\n",
      "3  4\n",
      "4  5\n"
     ]
    }
   ],
   "source": [
    "data = [1,2,3,4,5] #1 dimensi hanya jadi list\n",
    "df = pd.DataFrame(data) #kelas karena diawal dengan huruf besar\n",
    "print(df) #sudah jadi dataframe karena ada index (menunjukkan urutan dari baris dari list yg sudah punya)"
   ]
  },
  {
   "cell_type": "code",
   "execution_count": null,
   "id": "b7ee3bf7",
   "metadata": {},
   "outputs": [
    {
     "name": "stdout",
     "output_type": "stream",
     "text": [
      "     Name  Age\n",
      "0    Alex   10\n",
      "1     Bob   12\n",
      "2  Clarke   13\n"
     ]
    }
   ],
   "source": [
    "data = [['Alex',10],['Bob',12],['Clarke',13]]\n",
    "df = pd.DataFrame(data,columns=['Name','Age']) #index mulai dari 0 defaultnya\n",
    "print(df)"
   ]
  },
  {
   "cell_type": "code",
   "execution_count": null,
   "id": "68d8d5db",
   "metadata": {},
   "outputs": [
    {
     "name": "stdout",
     "output_type": "stream",
     "text": [
      "     Name   Age\n",
      "0    Alex  10.0\n",
      "1     Bob  12.0\n",
      "2  Clarke  13.0\n"
     ]
    }
   ],
   "source": [
    "data = [['Alex',10],['Bob',12],['Clarke',13]]\n",
    "df = pd.DataFrame(data,columns=['Name','Age']) \n",
    "df['Age'] =df['Age'].astype(float)\n",
    "print(df)"
   ]
  },
  {
   "cell_type": "code",
   "execution_count": 12,
   "id": "23a930f3",
   "metadata": {},
   "outputs": [
    {
     "name": "stdout",
     "output_type": "stream",
     "text": [
      "    Name  Age\n",
      "0    Tom   28\n",
      "1   Jack   34\n",
      "2  Steve   29\n",
      "3  Ricky   42\n"
     ]
    }
   ],
   "source": [
    "data = {'Name' : ['Tom','Jack','Steve','Ricky'],'Age':[28,34,29,42]}\n",
    "df=pd.DataFrame(data)\n",
    "print(df)"
   ]
  },
  {
   "cell_type": "code",
   "execution_count": 13,
   "id": "992db588",
   "metadata": {},
   "outputs": [
    {
     "name": "stdout",
     "output_type": "stream",
     "text": [
      "        Name  Age\n",
      "rank1    Tom   28\n",
      "rank2   Jack   34\n",
      "rank3  Steve   29\n",
      "rank4  Ricky   42\n"
     ]
    }
   ],
   "source": [
    "data = {'Name' : ['Tom','Jack','Steve','Ricky'],'Age':[28,34,29,42]}\n",
    "df=pd.DataFrame(data, index=['rank1','rank2','rank3','rank4'])\n",
    "print(df)"
   ]
  },
  {
   "cell_type": "code",
   "execution_count": 17,
   "id": "028f1cbf",
   "metadata": {},
   "outputs": [
    {
     "name": "stdout",
     "output_type": "stream",
     "text": [
      "   one  two\n",
      "a  1.0    1\n",
      "b  2.0    2\n",
      "c  3.0    3\n",
      "d  NaN    4\n"
     ]
    }
   ],
   "source": [
    "data = {'one':pd.Series([1,2,3],index=['a','b','c']),'two' : pd.Series([1,2,3,4],index=['a','b','c','d'])}\n",
    "df=pd.DataFrame(data)\n",
    "print(df)"
   ]
  },
  {
   "cell_type": "code",
   "execution_count": 18,
   "id": "bdc4c1d9",
   "metadata": {},
   "outputs": [
    {
     "name": "stdout",
     "output_type": "stream",
     "text": [
      "a    1.0\n",
      "b    2.0\n",
      "c    3.0\n",
      "d    NaN\n",
      "Name: one, dtype: float64\n"
     ]
    }
   ],
   "source": [
    "print(df['one'])"
   ]
  },
  {
   "cell_type": "code",
   "execution_count": 20,
   "id": "d1de6911",
   "metadata": {},
   "outputs": [
    {
     "name": "stdout",
     "output_type": "stream",
     "text": [
      "Adding a new column by passing as Series: \n",
      "   one  two  three\n",
      "a  1.0    1   10.0\n",
      "b  2.0    2   20.0\n",
      "c  3.0    3   30.0\n",
      "d  NaN    4    NaN\n",
      " \n",
      "Adding a new column using the existing columns in DataFrame: \n",
      "   one  two  three  four\n",
      "a  1.0    1   10.0  11.0\n",
      "b  2.0    2   20.0  22.0\n",
      "c  3.0    3   30.0  33.0\n",
      "d  NaN    4    NaN   NaN\n"
     ]
    }
   ],
   "source": [
    "print(\"Adding a new column by passing as Series: \")\n",
    "df['three'] = pd.Series([10,20,30],index=['a','b','c'])\n",
    "print(df)\n",
    "print(\" \")\n",
    "print(\"Adding a new column using the existing columns in DataFrame: \")\n",
    "df['four'] =df['one']+df['three']\n",
    "print(df)\n"
   ]
  },
  {
   "cell_type": "code",
   "execution_count": 22,
   "id": "90ecadc7",
   "metadata": {},
   "outputs": [
    {
     "name": "stdout",
     "output_type": "stream",
     "text": [
      "Our DataFrame is: \n",
      "   one  two  three\n",
      "a  1.0    1   10.0\n",
      "b  2.0    2   20.0\n",
      "c  3.0    3   30.0\n",
      "d  NaN    4    NaN\n",
      " \n",
      "Deleting the first column using DEL function: \n",
      "   two  three\n",
      "a    1   10.0\n",
      "b    2   20.0\n",
      "c    3   30.0\n",
      "d    4    NaN\n",
      " \n",
      "Deleting another column using POP function: \n",
      "   three\n",
      "a   10.0\n",
      "b   20.0\n",
      "c   30.0\n",
      "d    NaN\n"
     ]
    }
   ],
   "source": [
    "d = {'one':pd.Series([1,2,3],index=['a','b','c']),'two' : pd.Series([1,2,3,4],index=['a','b','c','d']),'three':pd.Series([10,20,30],index=['a','b','c'])}\n",
    "df=pd.DataFrame(d)\n",
    "print(\"Our DataFrame is: \")\n",
    "print(df)\n",
    "print(\" \")\n",
    "#using del function\n",
    "print(\"Deleting the first column using DEL function: \")\n",
    "del df['one']\n",
    "print(df)\n",
    "print(\" \")\n",
    "#using pop function\n",
    "print(\"Deleting another column using POP function: \")\n",
    "df.pop('two')\n",
    "print(df)"
   ]
  },
  {
   "cell_type": "code",
   "execution_count": 60,
   "id": "831f24dc",
   "metadata": {},
   "outputs": [
    {
     "name": "stdout",
     "output_type": "stream",
     "text": [
      "one    2.0\n",
      "two    2.0\n",
      "Name: b, dtype: float64\n",
      " \n",
      "one    3.0\n",
      "two    3.0\n",
      "Name: c, dtype: float64\n"
     ]
    }
   ],
   "source": [
    "# Selection by Label\n",
    "# rows can be selected by passing row label to a loc function\n",
    "d ={'one':pd.Series([1,2,3],index=['a','b','c']),'two' : pd.Series([1,2,3,4],index=['a','b','c','d'])}\n",
    "df=pd.DataFrame(d)\n",
    "print(df.loc['b'])\n",
    "print(' ')\n",
    "print(df.iloc[2])\n"
   ]
  },
  {
   "cell_type": "code",
   "execution_count": 25,
   "id": "ba4b126d",
   "metadata": {},
   "outputs": [
    {
     "name": "stdout",
     "output_type": "stream",
     "text": [
      "   one  two\n",
      "c  3.0    3\n",
      "d  NaN    4\n"
     ]
    }
   ],
   "source": [
    "d ={'one':pd.Series([1,2,3],index=['a','b','c']),'two' : pd.Series([1,2,3,4],index=['a','b','c','d'])}\n",
    "df=pd.DataFrame(d)\n",
    "print(df[2:4])"
   ]
  },
  {
   "cell_type": "code",
   "execution_count": 30,
   "id": "cb154f85",
   "metadata": {},
   "outputs": [
    {
     "name": "stdout",
     "output_type": "stream",
     "text": [
      "   a  b\n",
      "0  1  2\n",
      "1  3  4\n",
      "2  5  6\n",
      "3  7  8\n",
      "   a  b\n",
      "0  1  2\n",
      "1  3  4\n",
      "0  5  6\n",
      "1  7  8\n"
     ]
    }
   ],
   "source": [
    "df =pd.DataFrame([[1,2],[3,4]],columns=['a','b'])\n",
    "df2 = pd.DataFrame([[5,6],[7,8]],columns=['a','b'])\n",
    "df3 = pd.concat([df,df2],ignore_index=True)\n",
    "df4 = pd.concat([df,df2])\n",
    "print(df3)\n",
    "print(df4)"
   ]
  },
  {
   "cell_type": "code",
   "execution_count": 33,
   "id": "97d2038f",
   "metadata": {},
   "outputs": [
    {
     "name": "stdout",
     "output_type": "stream",
     "text": [
      "   a  b\n",
      "1  3  4\n",
      "2  5  6\n",
      "3  7  8\n"
     ]
    }
   ],
   "source": [
    "df =pd.DataFrame([[1,2],[3,4]],columns=['a','b'])\n",
    "df2 = pd.DataFrame([[5,6],[7,8]],columns=['a','b'])\n",
    "df=pd.concat([df,df2],ignore_index=True)\n",
    "df=df.drop(0)\n",
    "print(df)"
   ]
  },
  {
   "cell_type": "code",
   "execution_count": 35,
   "id": "3a061138",
   "metadata": {},
   "outputs": [
    {
     "name": "stdout",
     "output_type": "stream",
     "text": [
      "    Name  Age  Rating\n",
      "0    Tom   25    4.23\n",
      "1  James   26    3.24\n",
      "2  Ricky   25    3.98\n",
      "3    Vin   23    2.56\n",
      "4  Steve   30    3.20\n",
      "[['Tom' 25 4.23]\n",
      " ['James' 26 3.24]\n",
      " ['Ricky' 25 3.98]\n",
      " ['Vin' 23 2.56]\n",
      " ['Steve' 30 3.2]\n",
      " ['Smith' 39 4.6]\n",
      " ['Jack' 23 3.8]]\n"
     ]
    }
   ],
   "source": [
    "d = {'Name':pd.Series(['Tom','James','Ricky','Vin','Steve','Smith','Jack']),'Age': pd.Series([25,26,25,23,30,39,23]),'Rating':pd.Series([4.23,3.24,3.98,2.56,3.20,4.6,3.8])}\n",
    "df=pd.DataFrame(d)\n",
    "print(df.head())\n",
    "print(df.values)"
   ]
  },
  {
   "cell_type": "code",
   "execution_count": 39,
   "id": "e5ffa619",
   "metadata": {},
   "outputs": [
    {
     "name": "stdout",
     "output_type": "stream",
     "text": [
      "            Age     Rating\n",
      "count  12.00000  12.000000\n",
      "mean   32.25000   3.739167\n",
      "std     9.25522   0.783169\n",
      "min    23.00000   2.560000\n",
      "25%    25.00000   3.145000\n",
      "50%    29.50000   3.850000\n",
      "75%    36.25000   4.322500\n",
      "max    51.00000   4.800000\n"
     ]
    }
   ],
   "source": [
    "\n",
    "d = {'Name': pd.Series(['Tom', 'James', 'Ricky', 'Vin', 'Steve', 'Smith', 'Jack','Lee', 'David', 'Gasper', 'Betina', 'Andres']),'Age': pd.Series([25, 26, 25, 23, 30, 29, 23, 34, 40, 35, 51, 46]),'Rating': pd.Series([4.23, 3.24, 3.98, 2.56, 3.20, 4.60,3.8, 3.9, 2.78, 2.98, 4.80, 4.8]),}\n",
    "df=pd.DataFrame(d)\n",
    "print(df.describe())\n"
   ]
  },
  {
   "cell_type": "code",
   "execution_count": 45,
   "id": "62a42654",
   "metadata": {},
   "outputs": [
    {
     "name": "stdout",
     "output_type": "stream",
     "text": [
      "       col2      col1\n",
      "0  0.466375  0.346591\n",
      "1 -0.451701 -0.692136\n",
      "2  1.237473 -0.319685\n",
      "3 -0.409793  0.454119\n",
      "4 -0.838823  1.213547\n",
      "5  0.340530 -0.716102\n",
      "6  0.636335 -0.544981\n",
      "7  0.870203  0.954633\n",
      "8  0.115616 -1.230454\n",
      "9 -0.943664 -1.101783\n",
      " \n",
      "       col2      col1\n",
      "9 -0.943664 -1.101783\n",
      "8  0.115616 -1.230454\n",
      "7  0.870203  0.954633\n",
      "6  0.636335 -0.544981\n",
      "5  0.340530 -0.716102\n",
      "4 -0.838823  1.213547\n",
      "3 -0.409793  0.454119\n",
      "2  1.237473 -0.319685\n",
      "1 -0.451701 -0.692136\n",
      "0  0.466375  0.346591\n"
     ]
    }
   ],
   "source": [
    "import numpy as np\n",
    "unsorted_df = pd.DataFrame(np.random.randn(10,2),index=[1,4,6,2,3,5,9,8,0,7], columns=['col2','col1'])\n",
    "sorted_df=unsorted_df.sort_index()\n",
    "print(sorted_df)\n",
    "print(\" \")\n",
    "sorted_df = unsorted_df.sort_index(ascending=False)\n",
    "print(sorted_df)"
   ]
  },
  {
   "cell_type": "code",
   "execution_count": 46,
   "id": "dae11c7f",
   "metadata": {},
   "outputs": [
    {
     "name": "stdout",
     "output_type": "stream",
     "text": [
      "       col1      col2\n",
      "1  0.584210 -0.442737\n",
      "4  0.204711 -1.367299\n",
      "6 -0.653942  0.116271\n",
      "2  1.789631 -1.526115\n",
      "3 -0.425504 -1.521406\n",
      "5 -1.163353 -1.252414\n",
      "9  1.443961  0.838223\n",
      "8 -0.979120  0.214278\n",
      "0 -2.112286  0.367048\n",
      "7 -0.107327  1.207021\n",
      " \n"
     ]
    }
   ],
   "source": [
    "unsorted_df = pd.DataFrame(np.random.randn(10,2),index=[1,4,6,2,3,5,9,8,0,7], columns=['col2','col1'])\n",
    "sorted_df=unsorted_df.sort_index(axis=1)\n",
    "print(sorted_df)\n",
    "print(\" \")\n"
   ]
  },
  {
   "cell_type": "code",
   "execution_count": 48,
   "id": "b9fc8993",
   "metadata": {},
   "outputs": [
    {
     "name": "stdout",
     "output_type": "stream",
     "text": [
      "   col1  col2\n",
      "1     1     3\n",
      "3     1     4\n",
      "0     2     1\n",
      "2     4     2\n"
     ]
    }
   ],
   "source": [
    "unsorted_df = pd.DataFrame({'col1':[2,1,4,1],'col2':[1,3,2,4]})\n",
    "sorted_df=unsorted_df.sort_values(by='col1')\n",
    "print(sorted_df)"
   ]
  },
  {
   "cell_type": "code",
   "execution_count": 61,
   "id": "33661b63",
   "metadata": {},
   "outputs": [
    {
     "name": "stdout",
     "output_type": "stream",
     "text": [
      "          A         B         C         D\n",
      "a -0.347049  0.318582  0.829896  1.038728\n",
      "b  1.466300  0.059182  0.104962  0.473470\n",
      "c  0.058700  0.023462 -1.048464  0.614658\n",
      "d -0.702435  0.334445  0.573474 -0.992556\n",
      "e  1.372378  1.094434 -1.520160  1.093388\n",
      "f  0.183772 -0.362513 -0.639980 -1.424920\n",
      "g -0.839585 -2.127563  0.073496  0.244142\n",
      "h  0.171312  1.119351  0.530849 -0.865221\n",
      "a   -0.347049\n",
      "b    1.466300\n",
      "c    0.058700\n",
      "d   -0.702435\n",
      "e    1.372378\n",
      "f    0.183772\n",
      "g   -0.839585\n",
      "h    0.171312\n",
      "Name: A, dtype: float64\n"
     ]
    }
   ],
   "source": [
    "df=pd.DataFrame(np.random.randn(8,4),index=['a','b','c','d','e','f','g','h'],columns=['A','B','C','D'])\n",
    "print(df)\n",
    "print(df.loc[:,'A'])"
   ]
  },
  {
   "cell_type": "code",
   "execution_count": 53,
   "id": "df4cf75e",
   "metadata": {},
   "outputs": [
    {
     "name": "stdout",
     "output_type": "stream",
     "text": [
      "          A         C\n",
      "a  1.274731  1.632421\n",
      "b  0.339288  1.388866\n",
      "f  1.550992  0.041080\n",
      "h  0.300239  0.159330\n"
     ]
    }
   ],
   "source": [
    "print(df.loc[['a','b','f','h'],['A','C']])"
   ]
  },
  {
   "cell_type": "code",
   "execution_count": 62,
   "id": "144662a4",
   "metadata": {},
   "outputs": [
    {
     "name": "stdout",
     "output_type": "stream",
     "text": [
      "          A         B         C         D\n",
      "a -0.347049  0.318582  0.829896  1.038728\n",
      "b  1.466300  0.059182  0.104962  0.473470\n",
      "c  0.058700  0.023462 -1.048464  0.614658\n",
      "d -0.702435  0.334445  0.573474 -0.992556\n"
     ]
    }
   ],
   "source": [
    "print(df.iloc[:4])"
   ]
  },
  {
   "cell_type": "code",
   "execution_count": 66,
   "id": "9df1dca2",
   "metadata": {},
   "outputs": [
    {
     "name": "stdout",
     "output_type": "stream",
     "text": [
      "          A         B         C         D\n",
      "0 -0.096841  1.187941  0.397839 -0.263475\n",
      "1  1.227633 -0.564132  1.416551 -0.146153\n",
      "2  1.287530  2.198075 -1.109088 -0.645945\n",
      "3  0.366978 -0.163844 -0.044958  0.312267\n",
      "4 -0.970662  2.152243 -0.716043 -0.223722\n",
      "5  0.317335  1.185051 -0.063640 -0.499804\n",
      "6  0.143587  0.290253 -0.066390 -0.169911\n",
      "7 -1.972340 -1.287640  0.908900 -1.699382\n",
      "          A         B         C         D\n",
      "0 -0.096841  1.187941  0.397839 -0.263475\n",
      "1  1.227633 -0.564132  1.416551 -0.146153\n",
      "2  1.287530  2.198075 -1.109088 -0.645945\n",
      "3  0.366978 -0.163844 -0.044958  0.312267\n",
      "          C         D\n",
      "1  1.416551 -0.146153\n",
      "2 -1.109088 -0.645945\n",
      "3 -0.044958  0.312267\n",
      "4 -0.716043 -0.223722\n"
     ]
    }
   ],
   "source": [
    "df=pd.DataFrame(np.random.randn(8,4),columns=['A','B','C','D'])\n",
    "print(df)\n",
    "print(df.iloc[:4])\n",
    "print(df.iloc[1:5,2:])"
   ]
  },
  {
   "cell_type": "markdown",
   "id": "5c55d2be",
   "metadata": {},
   "source": [
    "## Praktek"
   ]
  },
  {
   "cell_type": "code",
   "execution_count": 119,
   "id": "e7b5fe56",
   "metadata": {},
   "outputs": [
    {
     "name": "stdout",
     "output_type": "stream",
     "text": [
      "      Name  Score  Age\n",
      "0    Alice     85   25\n",
      "1      Bob     90   30\n",
      "2  Charlie     78   22\n",
      "3    David     92   28\n",
      "    Name  Score  Age\n",
      "0  Alice     85   25\n",
      "1    Bob     90   30\n",
      "3  David     92   28\n",
      "      Name  Age\n",
      "0    Alice   25\n",
      "1      Bob   30\n",
      "2  Charlie   22\n",
      "3    David   28\n"
     ]
    }
   ],
   "source": [
    "# filtering\n",
    "# tampilkan siswa yang umurnya di atas 22\n",
    "# rumus:\n",
    "# df[boolean_expression]\n",
    "data = {'Name' : ['Alice','Bob','Charlie','David'],\n",
    "        'Score' : [85,90,78,92],\n",
    "        'Age' : [25,30,22,28]}\n",
    "df=pd.DataFrame(data)\n",
    "print(df)\n",
    "\n",
    "df_umur_diatas_22 = df[df['Age']>22]\n",
    "print(df_umur_diatas_22)\n",
    "print(df.loc[:,['Name','Age']])"
   ]
  },
  {
   "cell_type": "code",
   "execution_count": 87,
   "id": "0d607b0f",
   "metadata": {},
   "outputs": [
    {
     "name": "stdout",
     "output_type": "stream",
     "text": [
      "      Name  Age\n",
      "0    Alice   25\n",
      "1      Bob   30\n",
      "2  Charlie   22\n",
      "3    David   28\n"
     ]
    }
   ],
   "source": [
    "print(df[['Name','Age']])"
   ]
  },
  {
   "cell_type": "code",
   "execution_count": 95,
   "id": "c03ad594",
   "metadata": {},
   "outputs": [
    {
     "name": "stdout",
     "output_type": "stream",
     "text": [
      "    Name  Age\n",
      "0  Alice   25\n",
      "1    Bob   30\n",
      "3  David   28\n"
     ]
    }
   ],
   "source": [
    "df2 = df[df['Age']>22]\n",
    "print(df[df['Age']>22][['Name','Age']])"
   ]
  },
  {
   "cell_type": "code",
   "execution_count": 100,
   "id": "2ec9db5a",
   "metadata": {},
   "outputs": [
    {
     "name": "stdout",
     "output_type": "stream",
     "text": [
      "      Name  Score  Age Status\n",
      "0    Alice     85   25   Pass\n",
      "1      Bob     90   30   Pass\n",
      "2  Charlie     78   22   Fail\n",
      "3    David     92   28   Pass\n"
     ]
    }
   ],
   "source": [
    "def check(x):\n",
    "    return 'Pass' if x > 80 else 'Fail'\n",
    "df['Status'] = df['Score'].apply(lambda x: 'Passed' if x > 80 else 'Failed') # karena hanya dipakai 1 kali saja\n",
    "df['Status'] = df['Score'].apply(check)\n",
    "print(df)"
   ]
  },
  {
   "cell_type": "code",
   "execution_count": 102,
   "id": "f0dcdd48",
   "metadata": {},
   "outputs": [
    {
     "name": "stdout",
     "output_type": "stream",
     "text": [
      "    Name  Score  Age Status\n",
      "3  David     92   28   Pass\n",
      "1    Bob     90   30   Pass\n",
      "0  Alice     85   25   Pass\n"
     ]
    }
   ],
   "source": [
    "# sort descending nilai semua siswa yang di atas 80\n",
    "print(df[df['Score']>80].sort_values(by='Score',ascending=False))"
   ]
  },
  {
   "cell_type": "code",
   "execution_count": null,
   "id": "106e7f10",
   "metadata": {},
   "outputs": [
    {
     "name": "stdout",
     "output_type": "stream",
     "text": [
      "      Name  Score  Age\n",
      "0    Alice     85   25\n",
      "1      Bob     90   30\n",
      "2  Charlie     78   22\n",
      "3    David     92   28\n",
      "2\n",
      "2\n",
      "    Name  Score  Age\n",
      "0  Alice     85   25\n",
      "1    Bob     90   30\n",
      "3  David     92   28\n",
      "    Name  Score  Age\n",
      "0  Alice     85   25\n",
      "1    Bob     90   30\n",
      "3  David     92   28\n",
      "      Name  Score  Age\n",
      "0    Alice     85   25\n",
      "1      Bob     90   30\n",
      "2  Charlie     78   22\n",
      "3    David     92   28\n"
     ]
    }
   ],
   "source": [
    "# hapus siswa dengan nilai terendah\n",
    "print(df)\n",
    "print((df['Score'].idxmin()))\n",
    "print((df['Score'].argmin()))\n",
    "# df.drop((df['Score'].idxmin()),axis=0)\n",
    "\n",
    "print(df[df['Score'] !=  df['Score'].min()])\n",
    "print(df[df['Score'] > df.Score.min()])\n",
    "\n"
   ]
  },
  {
   "cell_type": "code",
   "execution_count": 142,
   "id": "b051a99d",
   "metadata": {},
   "outputs": [
    {
     "name": "stdout",
     "output_type": "stream",
     "text": [
      "          rating\n",
      "kategori        \n",
      "A             14\n",
      "B             14\n"
     ]
    }
   ],
   "source": [
    "data = {\n",
    "    'kategori' : ['A','A','B','B','A','B'],\n",
    "    'nilai' : [10,20,30,40,50,60],\n",
    "    'harga' : [100,200,300,400,500,600],\n",
    "    'rating' : [5,5,5,4,4,5]\n",
    "}\n",
    "df=pd.DataFrame(data)\n",
    "# Agregasi hanya pada kolom 'nilai'\n",
    "# result = df.groupby('kategori')['nilai'].agg('sum')\n",
    "result = df.groupby('kategori').agg({'rating': 'sum'})\n",
    "# result = df.groupby('kategori')['nilai'].agg(['sum', 'mean', 'max'])\n",
    "# result = df.groupby('kategori').agg({\n",
    "#     'nilai': ['sum', 'mean'],     # Untuk kolom 'nilai', ambil sum dan mean\n",
    "#     'harga': ['min', 'max']       # Untuk kolom 'harga', ambil min dan max\n",
    "# })\n",
    "\n",
    "print(result)"
   ]
  },
  {
   "cell_type": "markdown",
   "id": "ff8734ab",
   "metadata": {},
   "source": [
    "## Pandas - Missing Data"
   ]
  },
  {
   "cell_type": "code",
   "execution_count": 146,
   "id": "63208285",
   "metadata": {},
   "outputs": [
    {
     "name": "stdout",
     "output_type": "stream",
     "text": [
      "        one       two     three\n",
      "a  0.238823  2.239714 -0.153969\n",
      "c  0.415433 -0.188972 -0.137852\n",
      "e  0.004577  1.040509  0.572641\n",
      "f  0.484889 -1.372647  0.147458\n",
      "h -0.720036  0.024364  0.578864\n",
      " \n",
      "        one       two     three\n",
      "a  0.238823  2.239714 -0.153969\n",
      "b       NaN       NaN       NaN\n",
      "c  0.415433 -0.188972 -0.137852\n",
      "d       NaN       NaN       NaN\n",
      "e  0.004577  1.040509  0.572641\n",
      "f  0.484889 -1.372647  0.147458\n",
      "g       NaN       NaN       NaN\n",
      "h -0.720036  0.024364  0.578864\n"
     ]
    }
   ],
   "source": [
    "df = pd.DataFrame(np.random.randn(5,3),index=['a','c','e','f','h'],columns=['one','two','three'])\n",
    "print(df)\n",
    "print(\" \")\n",
    "df = df.reindex(['a','b','c','d','e','f','g','h'])\n",
    "print(df)"
   ]
  },
  {
   "cell_type": "code",
   "execution_count": 157,
   "id": "382e80cd",
   "metadata": {},
   "outputs": [
    {
     "name": "stdout",
     "output_type": "stream",
     "text": [
      "a    False\n",
      "b     True\n",
      "c    False\n",
      "d     True\n",
      "e    False\n",
      "f    False\n",
      "g     True\n",
      "h    False\n",
      "Name: one, dtype: bool\n",
      "3\n"
     ]
    }
   ],
   "source": [
    "df = pd.DataFrame(np.random.randn(5,3),index=['a','c','e','f','h'],columns=['one','two','three'])\n",
    "df = df.reindex(['a','b','c','d','e','f','g','h'])\n",
    "print(df['one'].isnull())\n",
    "print(df['one'].isnull().sum()) # total null 3"
   ]
  },
  {
   "cell_type": "code",
   "execution_count": 158,
   "id": "4a1f9859",
   "metadata": {},
   "outputs": [
    {
     "name": "stdout",
     "output_type": "stream",
     "text": [
      "        one       two     three\n",
      "a -0.283916  0.295641  2.078826\n",
      "b       NaN       NaN       NaN\n",
      "c  0.712673 -0.516819 -1.438591\n",
      "NaN replaced with '0' : \n",
      "        one       two     three\n",
      "a -0.283916  0.295641  2.078826\n",
      "b  0.000000  0.000000  0.000000\n",
      "c  0.712673 -0.516819 -1.438591\n"
     ]
    }
   ],
   "source": [
    "df = pd.DataFrame(np.random.randn(3,3),index=['a','c','e'],columns=['one','two','three'])\n",
    "df=df.reindex(['a','b','c'])\n",
    "print(df)\n",
    "print(\"NaN replaced with '0' : \")\n",
    "print(df.fillna(0))"
   ]
  },
  {
   "cell_type": "code",
   "execution_count": 160,
   "id": "619915be",
   "metadata": {},
   "outputs": [
    {
     "name": "stdout",
     "output_type": "stream",
     "text": [
      "        one       two     three\n",
      "a -0.518543  0.818154  1.312862\n",
      "b       NaN       NaN       NaN\n",
      "c  0.614730 -0.415403 -0.063752\n",
      "NaN replaced with 'pad' : \n",
      "        one       two     three\n",
      "a -0.518543  0.818154  1.312862\n",
      "b -0.518543  0.818154  1.312862\n",
      "c  0.614730 -0.415403 -0.063752\n"
     ]
    },
    {
     "name": "stderr",
     "output_type": "stream",
     "text": [
      "C:\\Users\\71487\\AppData\\Local\\Temp\\ipykernel_14048\\4232641425.py:5: FutureWarning: DataFrame.fillna with 'method' is deprecated and will raise in a future version. Use obj.ffill() or obj.bfill() instead.\n",
      "  print(df.fillna(method='pad'))\n"
     ]
    }
   ],
   "source": [
    "df = pd.DataFrame(np.random.randn(3,3),index=['a','c','e'],columns=['one','two','three'])\n",
    "df=df.reindex(['a','b','c'])\n",
    "print(df)\n",
    "print(\"NaN replaced with 'pad' : \")\n",
    "print(df.fillna(method='pad'))"
   ]
  },
  {
   "cell_type": "code",
   "execution_count": 161,
   "id": "e373060e",
   "metadata": {},
   "outputs": [
    {
     "name": "stdout",
     "output_type": "stream",
     "text": [
      "        one       two     three\n",
      "a  0.181168 -1.263912  0.405207\n",
      "b       NaN       NaN       NaN\n",
      "c  1.972981  0.191695  0.391180\n",
      "NaN replaced with 'backfill' : \n",
      "        one       two     three\n",
      "a  0.181168 -1.263912  0.405207\n",
      "b  1.972981  0.191695  0.391180\n",
      "c  1.972981  0.191695  0.391180\n"
     ]
    },
    {
     "name": "stderr",
     "output_type": "stream",
     "text": [
      "C:\\Users\\71487\\AppData\\Local\\Temp\\ipykernel_14048\\1615660111.py:5: FutureWarning: DataFrame.fillna with 'method' is deprecated and will raise in a future version. Use obj.ffill() or obj.bfill() instead.\n",
      "  print(df.fillna(method='backfill'))\n"
     ]
    }
   ],
   "source": [
    "df = pd.DataFrame(np.random.randn(3,3),index=['a','c','e'],columns=['one','two','three'])\n",
    "df=df.reindex(['a','b','c'])\n",
    "print(df)\n",
    "print(\"NaN replaced with 'backfill' : \")\n",
    "print(df.fillna(method='backfill'))"
   ]
  },
  {
   "cell_type": "code",
   "execution_count": null,
   "id": "983b264a",
   "metadata": {},
   "outputs": [
    {
     "name": "stdout",
     "output_type": "stream",
     "text": [
      "        one       two     three\n",
      "a -0.429341  1.076081  2.159455\n",
      "b       NaN       NaN       NaN\n",
      "c  0.090653  0.231807 -0.283401\n",
      "NaN removed : \n",
      "        one       two     three\n",
      "a -0.429341  1.076081  2.159455\n",
      "c  0.090653  0.231807 -0.283401\n"
     ]
    }
   ],
   "source": [
    "# Drop Missing Values (axis=0)\n",
    "df = pd.DataFrame(np.random.randn(3,3),index=['a','c','e'],columns=['one','two','three'])\n",
    "df=df.reindex(['a','b','c'])\n",
    "print(df)\n",
    "print(\"NaN removed : \")\n",
    "print(df.dropna())"
   ]
  },
  {
   "cell_type": "code",
   "execution_count": 163,
   "id": "e62b814c",
   "metadata": {},
   "outputs": [
    {
     "name": "stdout",
     "output_type": "stream",
     "text": [
      "        one       two     three\n",
      "a -2.270841  0.882532  0.076206\n",
      "b       NaN       NaN       NaN\n",
      "c -0.431807 -0.369091 -0.822200\n",
      "d       NaN       NaN       NaN\n",
      "e  0.384302  1.353660 -0.141254\n",
      "f -0.662423  0.613486 -0.239202\n",
      "g       NaN       NaN       NaN\n",
      "h -0.599105 -2.256139 -0.623172\n",
      " \n",
      "Empty DataFrame\n",
      "Columns: []\n",
      "Index: [a, b, c, d, e, f, g, h]\n"
     ]
    }
   ],
   "source": [
    "df = pd.DataFrame(np.random.randn(5,3),index=['a','c','e','f','h'],columns=['one','two','three'])\n",
    "df = df.reindex(['a','b','c','d','e','f','g','h'])\n",
    "print(df)\n",
    "print(\" \")\n",
    "#Delete axis=1\n",
    "print(df.dropna(axis=1))"
   ]
  },
  {
   "cell_type": "code",
   "execution_count": 182,
   "id": "f0287739",
   "metadata": {},
   "outputs": [
    {
     "name": "stdout",
     "output_type": "stream",
     "text": [
      "        one       two     three\n",
      "a -1.396276 -1.298072  0.230264\n",
      "b       NaN       NaN       NaN\n",
      "c  0.144727  0.321576  0.049491\n",
      "d       NaN       NaN       NaN\n",
      "e -0.367215  0.491905 -0.989079\n",
      "f -1.306410  0.429867  1.442452\n",
      "g       NaN       NaN       NaN\n",
      "h  0.212756 -0.322256 -0.384155\n",
      " \n",
      "        one       two     three\n",
      "a -1.396276 -1.298072  0.230264\n",
      "b  1.000000  1.000000  1.000000\n",
      "c  0.144727  0.321576  0.049491\n",
      "d  1.000000  1.000000  1.000000\n",
      "e -0.367215  0.491905 -0.989079\n",
      "f -1.306410  0.429867  1.442452\n",
      "g  1.000000  1.000000  1.000000\n",
      "h  0.212756 -0.322256 -0.384155\n"
     ]
    }
   ],
   "source": [
    "df = pd.DataFrame(np.random.randn(5,3),index=['a','c','e','f','h'],columns=['one','two','three'])\n",
    "df = df.reindex(['a','b','c','d','e','f','g','h'])\n",
    "print(df)\n",
    "print(\" \")\n",
    "#Delete axis=1\n",
    "print(df.replace({np.nan:1}))\n",
    "# print(df.interpolate())"
   ]
  },
  {
   "cell_type": "code",
   "execution_count": 184,
   "id": "2f5ba3ee",
   "metadata": {},
   "outputs": [
    {
     "name": "stdout",
     "output_type": "stream",
     "text": [
      "    one   two\n",
      "0    10  1000\n",
      "1    20     0\n",
      "2    30    30\n",
      "3    40    40\n",
      "4    50    50\n",
      "5  2000    60\n",
      " \n",
      "   one  two\n",
      "0   10   10\n",
      "1   20    0\n",
      "2   30   30\n",
      "3   40   40\n",
      "4   50   50\n",
      "5   60   60\n"
     ]
    }
   ],
   "source": [
    "df = pd.DataFrame({'one':[10,20,30,40,50,2000],'two':[1000,0,30,40,50,60]})\n",
    "print(df)\n",
    "print(\" \")\n",
    "print(df.replace({1000:10,2000:60}))\n"
   ]
  },
  {
   "cell_type": "markdown",
   "id": "a03898d6",
   "metadata": {},
   "source": [
    "## Pandas - Visualization"
   ]
  },
  {
   "cell_type": "code",
   "execution_count": null,
   "id": "3e7d2741",
   "metadata": {},
   "outputs": [
    {
     "data": {
      "text/plain": [
       "<Axes: >"
      ]
     },
     "execution_count": 187,
     "metadata": {},
     "output_type": "execute_result"
    },
    {
     "data": {
      "image/png": "[encoded data removed]",
      "text/plain": [
       "<Figure size 640x480 with 1 Axes>"
      ]
     },
     "metadata": {},
     "output_type": "display_data"
    }
   ],
   "source": [
    "import pandas as pd\n",
    "import numpy as np\n",
    "#Line plot\n",
    "df = pd.DataFrame(np.random.randn(10,4),index=pd.date_range('1/1/2000',periods=10),columns=list('ABCD'))\n",
    "df.plot()"
   ]
  },
  {
   "cell_type": "code",
   "execution_count": 191,
   "id": "ec1ec38c",
   "metadata": {},
   "outputs": [
    {
     "data": {
      "text/plain": [
       "<matplotlib.legend.Legend at 0x24410677110>"
      ]
     },
     "execution_count": 191,
     "metadata": {},
     "output_type": "execute_result"
    },
    {
     "data": {
      "image/png": "[encoded data removed]",
      "text/plain": [
       "<Figure size 640x480 with 1 Axes>"
      ]
     },
     "metadata": {},
     "output_type": "display_data"
    }
   ],
   "source": [
    "#Bar Plot\n",
    "df = pd.DataFrame(np.random.rand(10,4),columns=['a','b','c','d'])\n",
    "\n",
    "df.plot.bar(stacked=True).legend(loc='upper left')\n"
   ]
  },
  {
   "cell_type": "code",
   "execution_count": 192,
   "id": "03879135",
   "metadata": {},
   "outputs": [
    {
     "data": {
      "text/plain": [
       "<Axes: >"
      ]
     },
     "execution_count": 192,
     "metadata": {},
     "output_type": "execute_result"
    },
    {
     "data": {
      "image/png": "[encoded data removed]",
      "text/plain": [
       "<Figure size 640x480 with 1 Axes>"
      ]
     },
     "metadata": {},
     "output_type": "display_data"
    }
   ],
   "source": [
    "#Area Plot\n",
    "df = pd.DataFrame(np.random.rand(10,4),columns=['a','b','c','d'])\n",
    "df.plot.area()"
   ]
  },
  {
   "cell_type": "code",
   "execution_count": 193,
   "id": "dbe82e6b",
   "metadata": {},
   "outputs": [
    {
     "data": {
      "text/plain": [
       "<Axes: xlabel='a', ylabel='b'>"
      ]
     },
     "execution_count": 193,
     "metadata": {},
     "output_type": "execute_result"
    },
    {
     "data": {
      "image/png": "[encoded data removed]",
      "text/plain": [
       "<Figure size 640x480 with 1 Axes>"
      ]
     },
     "metadata": {},
     "output_type": "display_data"
    }
   ],
   "source": [
    "# Scatter Plot\n",
    "df = pd.DataFrame(np.random.rand(50,4), columns=['a','b','c','d'])\n",
    "df.plot.scatter(x='a',y='b')"
   ]
  },
  {
   "cell_type": "code",
   "execution_count": 195,
   "id": "defa73a7",
   "metadata": {},
   "outputs": [
    {
     "data": {
      "text/plain": [
       "<Axes: >"
      ]
     },
     "execution_count": 195,
     "metadata": {},
     "output_type": "execute_result"
    },
    {
     "data": {
      "image/png": "[encoded data removed]",
      "text/plain": [
       "<Figure size 640x480 with 1 Axes>"
      ]
     },
     "metadata": {},
     "output_type": "display_data"
    }
   ],
   "source": [
    "df = pd.DataFrame(np.random.rand(10,5),columns=list('ABCDE'))\n",
    "df.plot.box()"
   ]
  },
  {
   "cell_type": "markdown",
   "id": "53643b1c",
   "metadata": {},
   "source": [
    "## Pandas - File Tools"
   ]
  },
  {
   "cell_type": "markdown",
   "id": "3dcb40fd",
   "metadata": {},
   "source": [
    "#### Read CSV"
   ]
  },
  {
   "cell_type": "code",
   "execution_count": 200,
   "id": "e2443794",
   "metadata": {},
   "outputs": [
    {
     "name": "stdout",
     "output_type": "stream",
     "text": [
      "   S.No    Name  Age       City  Salary\n",
      "0     1     Tom   28    Toronto   20000\n",
      "1     2     Lee   32   HongKong    3000\n",
      "2     3  Steven   43   Bay Area    8300\n",
      "3     4     Ram   38  Hyderabad    3900\n"
     ]
    }
   ],
   "source": [
    "import pandas as pd\n",
    "import numpy as np\n",
    "\n",
    "df=pd.read_csv('temp.csv')\n",
    "print(df)"
   ]
  },
  {
   "cell_type": "markdown",
   "id": "82cbf973",
   "metadata": {},
   "source": [
    "#### Read Excel"
   ]
  },
  {
   "cell_type": "code",
   "execution_count": 201,
   "id": "7cbd6fbb",
   "metadata": {},
   "outputs": [
    {
     "data": {
      "text/html": [
       "<div>\n",
       "<style scoped>\n",
       "    .dataframe tbody tr th:only-of-type {\n",
       "        vertical-align: middle;\n",
       "    }\n",
       "\n",
       "    .dataframe tbody tr th {\n",
       "        vertical-align: top;\n",
       "    }\n",
       "\n",
       "    .dataframe thead th {\n",
       "        text-align: right;\n",
       "    }\n",
       "</style>\n",
       "<table border=\"1\" class=\"dataframe\">\n",
       "  <thead>\n",
       "    <tr style=\"text-align: right;\">\n",
       "      <th></th>\n",
       "      <th>Price</th>\n",
       "      <th>Age</th>\n",
       "      <th>KM</th>\n",
       "      <th>FuelType</th>\n",
       "      <th>HP</th>\n",
       "      <th>MetColor</th>\n",
       "      <th>Automatic</th>\n",
       "      <th>CC</th>\n",
       "      <th>Doors</th>\n",
       "      <th>Weight</th>\n",
       "    </tr>\n",
       "  </thead>\n",
       "  <tbody>\n",
       "    <tr>\n",
       "      <th>0</th>\n",
       "      <td>13500</td>\n",
       "      <td>23</td>\n",
       "      <td>46986</td>\n",
       "      <td>Diesel</td>\n",
       "      <td>90</td>\n",
       "      <td>1</td>\n",
       "      <td>0</td>\n",
       "      <td>2000</td>\n",
       "      <td>3</td>\n",
       "      <td>1165</td>\n",
       "    </tr>\n",
       "    <tr>\n",
       "      <th>1</th>\n",
       "      <td>13750</td>\n",
       "      <td>23</td>\n",
       "      <td>72937</td>\n",
       "      <td>Diesel</td>\n",
       "      <td>90</td>\n",
       "      <td>1</td>\n",
       "      <td>0</td>\n",
       "      <td>2000</td>\n",
       "      <td>3</td>\n",
       "      <td>1165</td>\n",
       "    </tr>\n",
       "    <tr>\n",
       "      <th>2</th>\n",
       "      <td>13950</td>\n",
       "      <td>24</td>\n",
       "      <td>41711</td>\n",
       "      <td>Diesel</td>\n",
       "      <td>90</td>\n",
       "      <td>1</td>\n",
       "      <td>0</td>\n",
       "      <td>2000</td>\n",
       "      <td>3</td>\n",
       "      <td>1165</td>\n",
       "    </tr>\n",
       "    <tr>\n",
       "      <th>3</th>\n",
       "      <td>14950</td>\n",
       "      <td>26</td>\n",
       "      <td>48000</td>\n",
       "      <td>Diesel</td>\n",
       "      <td>90</td>\n",
       "      <td>0</td>\n",
       "      <td>0</td>\n",
       "      <td>2000</td>\n",
       "      <td>3</td>\n",
       "      <td>1165</td>\n",
       "    </tr>\n",
       "    <tr>\n",
       "      <th>4</th>\n",
       "      <td>13750</td>\n",
       "      <td>30</td>\n",
       "      <td>38500</td>\n",
       "      <td>Diesel</td>\n",
       "      <td>90</td>\n",
       "      <td>0</td>\n",
       "      <td>0</td>\n",
       "      <td>2000</td>\n",
       "      <td>3</td>\n",
       "      <td>1165</td>\n",
       "    </tr>\n",
       "  </tbody>\n",
       "</table>\n",
       "</div>"
      ],
      "text/plain": [
       "   Price  Age     KM FuelType  HP  MetColor  Automatic    CC  Doors  Weight\n",
       "0  13500   23  46986   Diesel  90         1          0  2000      3    1165\n",
       "1  13750   23  72937   Diesel  90         1          0  2000      3    1165\n",
       "2  13950   24  41711   Diesel  90         1          0  2000      3    1165\n",
       "3  14950   26  48000   Diesel  90         0          0  2000      3    1165\n",
       "4  13750   30  38500   Diesel  90         0          0  2000      3    1165"
      ]
     },
     "execution_count": 201,
     "metadata": {},
     "output_type": "execute_result"
    }
   ],
   "source": [
    "CarPricesData=pd.read_excel(io='Book1.xlsx',sheet_name='car data')\n",
    "CarPricesData.head()"
   ]
  },
  {
   "cell_type": "markdown",
   "id": "1f637a63",
   "metadata": {},
   "source": [
    "#### Custom Index"
   ]
  },
  {
   "cell_type": "code",
   "execution_count": 203,
   "id": "89ca7796",
   "metadata": {},
   "outputs": [
    {
     "name": "stdout",
     "output_type": "stream",
     "text": [
      "        Name  Age       City  Salary\n",
      "S.No                                \n",
      "1        Tom   28    Toronto   20000\n",
      "2        Lee   32   HongKong    3000\n",
      "3     Steven   43   Bay Area    8300\n",
      "4        Ram   38  Hyderabad    3900\n"
     ]
    }
   ],
   "source": [
    "df = pd.read_csv('temp.csv',index_col=['S.No'])\n",
    "print(df)"
   ]
  },
  {
   "cell_type": "code",
   "execution_count": 207,
   "id": "1d95bf8b",
   "metadata": {},
   "outputs": [
    {
     "name": "stdout",
     "output_type": "stream",
     "text": [
      "S.No        int64\n",
      "Name       object\n",
      "Age         int64\n",
      "City       object\n",
      "Salary    float64\n",
      "dtype: object\n",
      "   S.No    Name  Age       City   Salary\n",
      "0     1     Tom   28    Toronto  20000.0\n",
      "1     2     Lee   32   HongKong   3000.0\n",
      "2     3  Steven   43   Bay Area   8300.0\n",
      "3     4     Ram   38  Hyderabad   3900.0\n"
     ]
    }
   ],
   "source": [
    "df=pd.read_csv('temp.csv',dtype={'Salary': np.float64})\n",
    "print(df.dtypes)\n",
    "print(df)"
   ]
  },
  {
   "cell_type": "markdown",
   "id": "a931340f",
   "metadata": {},
   "source": [
    "## Pandas QUIZ: Analisis Penjualan Produk"
   ]
  },
  {
   "cell_type": "code",
   "execution_count": null,
   "id": "f8561aea",
   "metadata": {},
   "outputs": [
    {
     "name": "stdout",
     "output_type": "stream",
     "text": [
      "      Product     Category  Price  Units Sold     Month\n",
      "0      Laptop  Electronics   1000          30   January\n",
      "1  Smartphone  Electronics    700          45   January\n",
      "2      Tablet  Electronics    300          20   January\n",
      "3      Laptop  Electronics   1000          25  February\n",
      "4  Smartphone  Electronics    700          50  February\n"
     ]
    }
   ],
   "source": [
    "# 1. Import CSV\n",
    "import pandas as pd\n",
    "import numpy as np\n",
    "\n",
    "df = pd.read_csv('sales_data.csv')\n",
    "print(df.head())"
   ]
  },
  {
   "cell_type": "code",
   "execution_count": 294,
   "id": "e18619f7",
   "metadata": {},
   "outputs": [
    {
     "name": "stdout",
     "output_type": "stream",
     "text": [
      "      Product     Category  Price  Units Sold     Month  Total Revenue  Total\n",
      "0      Laptop  Electronics   1000          30   January          30000  30000\n",
      "1  Smartphone  Electronics    700          45   January          31500  31500\n",
      "2      Tablet  Electronics    300          20   January           6000   6000\n",
      "3      Laptop  Electronics   1000          25  February          25000  25000\n",
      "4  Smartphone  Electronics    700          50  February          35000  35000\n",
      " \n",
      "Total Pendapatan per Kategori: \n",
      "Category\n",
      "Accessories      8000\n",
      "Electronics    204000\n",
      "Name: Total, dtype: int64\n"
     ]
    }
   ],
   "source": [
    "# 2. Analisis Penjualan Berdasarkan Kategori\n",
    "df['Total'] = df['Price'] * df['Units Sold']\n",
    "print(df.head())\n",
    "print(\" \")\n",
    "# result = df.groupby('Category').agg({'Total': 'sum'})\n",
    "result = df.groupby('Category')['Total'].sum()\n",
    "print(\"Total Pendapatan per Kategori: \")\n",
    "print(result)"
   ]
  },
  {
   "cell_type": "code",
   "execution_count": 290,
   "id": "faa931cc",
   "metadata": {},
   "outputs": [
    {
     "name": "stdout",
     "output_type": "stream",
     "text": [
      "Nama Produk Terlaris : Smartphone\n",
      "Jumlah Unit Terjual : 135\n"
     ]
    }
   ],
   "source": [
    "# 3. Identifikas Produk Terlaris\n",
    "# product_terlaris = df.groupby('Product').agg({'Units Sold': 'sum'})\n",
    "product_terlaris = df.groupby('Product')['Units Sold'].agg('sum')\n",
    "# print(product_terlaris)\n",
    "\n",
    "print(f'Nama Produk Terlaris : {product_terlaris.idxmax()}')\n",
    "print(f'Jumlah Unit Terjual : {product_terlaris.values.max()}')\n"
   ]
  },
  {
   "cell_type": "code",
   "execution_count": null,
   "id": "2bd636de",
   "metadata": {},
   "outputs": [
    {
     "name": "stdout",
     "output_type": "stream",
     "text": [
      "          Units Sold\n",
      "Month               \n",
      "January           95\n",
      "February          90\n",
      "March            185\n"
     ]
    },
    {
     "data": {
      "text/plain": [
       "<Axes: xlabel='Month'>"
      ]
     },
     "execution_count": 264,
     "metadata": {},
     "output_type": "execute_result"
    },
    {
     "data": {
      "image/png": "[encoded data removed]",
      "text/plain": [
       "<Figure size 640x480 with 1 Axes>"
      ]
     },
     "metadata": {},
     "output_type": "display_data"
    }
   ],
   "source": [
    "# 4. Visualisasi Penjualan per Bulan\n",
    "result = df.groupby('Month').agg({'Units Sold': 'sum'})\n",
    "result = result.reindex(['January','February','March'])\n",
    "print(result)\n",
    "result.plot.bar(y='Units Sold')"
   ]
  },
  {
   "cell_type": "code",
   "execution_count": null,
   "id": "ea68a4f4",
   "metadata": {},
   "outputs": [
    {
     "name": "stdout",
     "output_type": "stream",
     "text": [
      "      Product     Category  Price  Units Sold    Month  Total Revenue\n",
      "0      Laptop  Electronics   1000          30  January          30000\n",
      "1  Smartphone  Electronics    700          45  January          31500\n"
     ]
    }
   ],
   "source": [
    "# 5. Ekspor Data ke File Baru\n",
    "df = pd.read_csv('sales_data.csv')\n",
    "\n",
    "df['Total Revenue'] = df['Units Sold'] * df['Price']\n",
    "\n",
    "df_new = df\n",
    "print(df_new.head(2))\n",
    "df_new.to_csv('sales_summary.csv',index=False)"
   ]
  }
 ],
 "metadata": {
  "kernelspec": {
   "display_name": "myvenv",
   "language": "python",
   "name": "python3"
  },
  "language_info": {
   "codemirror_mode": {
    "name": "ipython",
    "version": 3
   },
   "file_extension": ".py",
   "mimetype": "text/x-python",
   "name": "python",
   "nbconvert_exporter": "python",
   "pygments_lexer": "ipython3",
   "version": "3.13.3"
  }
 },
 "nbformat": 4,
 "nbformat_minor": 5
}
