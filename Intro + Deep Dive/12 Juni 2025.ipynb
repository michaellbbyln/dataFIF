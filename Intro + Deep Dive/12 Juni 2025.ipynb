{
 "cells": [
  {
   "cell_type": "markdown",
   "id": "3db6e80d",
   "metadata": {},
   "source": [
    "# Python Deep Dive"
   ]
  },
  {
   "cell_type": "markdown",
   "id": "4caadf4f",
   "metadata": {},
   "source": [
    "### Non Primitives Data Type (Data Structures)"
   ]
  },
  {
   "cell_type": "code",
   "execution_count": null,
   "id": "4f84250b",
   "metadata": {},
   "outputs": [
    {
     "name": "stdout",
     "output_type": "stream",
     "text": [
      "['genap', 'ganjil', 'genap', 'ganjil', 'genap', 'ganjil', 'genap', 'ganjil']\n"
     ]
    }
   ],
   "source": [
    "plat_mobil = [2222,3333,4444,5555,6666,7777,8888,9999]\n",
    "# buat list baru yang memberikan keterangan apakah plat ganjil atau genap\n",
    "plat_mobil_g = []\n",
    "for i in plat_mobil:\n",
    "    if i % 2 == 0:\n",
    "        plat_mobil_g.append('genap')\n",
    "        #plat_mobil_g = plat_mobil_g + 'genap'\n",
    "        #plat_mobil_g += 'genap'\n",
    "    else:\n",
    "        plat_mobil_g.append('ganjil')\n",
    "print(plat_mobil_g)\n"
   ]
  },
  {
   "cell_type": "code",
   "execution_count": null,
   "id": "4c44f3e6",
   "metadata": {},
   "outputs": [
    {
     "name": "stdout",
     "output_type": "stream",
     "text": [
      "['genap', 'ganjil', 'genap', 'ganjil', 'genap', 'ganjil', 'genap', 'ganjil']\n"
     ]
    }
   ],
   "source": [
    "#2 baris\n",
    "plat_mobil_g = []\n",
    "for i in plat_mobil:\n",
    "    plat_mobil_g.append('genap') if i % 2 == 0 else plat_mobil_g.append('ganjil')\n",
    "print(plat_mobil_g)"
   ]
  },
  {
   "cell_type": "code",
   "execution_count": null,
   "id": "3e53aea9",
   "metadata": {},
   "outputs": [
    {
     "name": "stdout",
     "output_type": "stream",
     "text": [
      "[0, 1, 2, 3, 4, 5, 6, 7, 8, 9, 10, 11, 12, 13, 14, 15, 16, 17, 18, 19]\n",
      "[0, 1, 2, 3, 4, 5, 6, 7, 8, 9, 10, 11, 12, 13, 14, 15, 16, 17, 18, 19]\n",
      "[0, 1, 2, 3, 4, 5, 6, 7, 8, 9, 10, 11, 12, 13, 14, 15, 16, 17, 18, 19]\n"
     ]
    }
   ],
   "source": [
    "# bikin variabel yang isinya list dari 0 sampe 19\n",
    "list2 = []\n",
    "for i in range(0,20):\n",
    "   list2.append(i)\n",
    "angka = list(range(20))\n",
    "print(angka)\n",
    "print(list2)\n"
   ]
  },
  {
   "cell_type": "code",
   "execution_count": 6,
   "id": "a8f6fc9e",
   "metadata": {},
   "outputs": [
    {
     "name": "stdout",
     "output_type": "stream",
     "text": [
      "[0, 1, 2, 3, 4, 5, 6, 7, 8, 9, 10, 11, 12, 13, 14, 15, 16, 17, 18, 19]\n",
      "[0, 1, 4, 9, 16, 25, 36, 49, 64, 81, 100]\n",
      "[0, 2, 4, 6, 8, 10]\n",
      "[0, 2, 4, 6, 8, 10]\n"
     ]
    }
   ],
   "source": [
    "# list comprehension\n",
    "# rumus: \n",
    "# [ expression \"for x in sequence\" ] expression itu apa yg mau dimasukkin di listnya\n",
    "\n",
    "list1 = [i for i in range(0,20)]\n",
    "print(list1)\n",
    "kuadrat = [i**2 for i in range(11)]\n",
    "print(kuadrat)\n",
    "\n",
    "genap = [ x for x in range(0,11,2)]\n",
    "genap2 = [x for x in range(0,11) if x%2 == 0]\n",
    "print(genap2)\n",
    "print(genap)"
   ]
  },
  {
   "cell_type": "code",
   "execution_count": null,
   "id": "93642053",
   "metadata": {},
   "outputs": [
    {
     "data": {
      "text/plain": [
       "['genap', 'ganjil', 'genap', 'ganjil', 'genap', 'ganjil', 'genap', 'ganjil']"
      ]
     },
     "execution_count": 9,
     "metadata": {},
     "output_type": "execute_result"
    }
   ],
   "source": [
    "plat_mobil = [2222,3333,4444,5555,6666,7777,8888,9999]\n",
    "gg = ['genap' if i %2 ==0 else 'ganjil' for i in plat_mobil]\n",
    "gg"
   ]
  },
  {
   "cell_type": "code",
   "execution_count": 12,
   "id": "7b973935",
   "metadata": {},
   "outputs": [
    {
     "name": "stdout",
     "output_type": "stream",
     "text": [
      "0 apple\n",
      "1 banana\n",
      "2 cherry\n",
      "0 apple\n",
      "1 banana\n",
      "2 cherry\n"
     ]
    }
   ],
   "source": [
    "fruits = [\"apple\", \"banana\", \"cherry\"]\n",
    "for index, fruit in enumerate(fruits):\n",
    "    print(index, fruit)\n",
    "for i in range(len(fruits)):\n",
    "    print(i, fruits[i])"
   ]
  },
  {
   "cell_type": "markdown",
   "id": "770fd246",
   "metadata": {},
   "source": [
    "## QUIZ TIME!"
   ]
  },
  {
   "cell_type": "code",
   "execution_count": 30,
   "id": "6e78c896",
   "metadata": {},
   "outputs": [
    {
     "name": "stdout",
     "output_type": "stream",
     "text": [
      "Total Penjualan: 2860\n",
      "Penjualan tertinggi adalah hari ke - 8\n",
      "Rata-rata Penjualan : 238.33\n",
      "Standar Deviasi : 49.33\n"
     ]
    }
   ],
   "source": [
    "penjualan = [150,200,250,180,300,220,270,310,230,210,250,290]\n",
    "import statistics\n",
    "#1\n",
    "print(f'Total Penjualan: {sum(penjualan)}')\n",
    "#2\n",
    "print(f'Penjualan tertinggi adalah hari ke - {penjualan.index(max(penjualan))+1}')\n",
    "#3\n",
    "print(f'Rata-rata Penjualan : {statistics.mean(penjualan):.2f}')\n",
    "#4\n",
    "print(f'Standar Deviasi : {statistics.stdev(penjualan):.2f}')"
   ]
  },
  {
   "cell_type": "markdown",
   "id": "03c28ae5",
   "metadata": {},
   "source": [
    "## QUIZ TIME!"
   ]
  },
  {
   "cell_type": "code",
   "execution_count": 48,
   "id": "bcb67812",
   "metadata": {},
   "outputs": [
    {
     "name": "stdout",
     "output_type": "stream",
     "text": [
      "['Dokumen', 'Desain', 'Pengembangan', 'Pengujian', 'Peluncuran', 'Dokumentasi']\n",
      "['Dokumen', 'Desain', 'Pengembangan', 'Peluncuran', 'Dokumentasi']\n",
      "['Dokumen', 'Desain', 'Pengembangan', 'Peluncuran', 'Dokumentasi']\n",
      "Tugas Desain muncul : 1 kali\n",
      "['Desain', 'Dokumen', 'Dokumentasi', 'Peluncuran', 'Pengembangan']\n",
      "['Pengembangan', 'Peluncuran', 'Dokumentasi', 'Dokumen', 'Desain']\n",
      "['Pengembangan', 'Evaluasi', 'Peluncuran', 'Dokumentasi', 'Dokumen', 'Desain']\n"
     ]
    }
   ],
   "source": [
    "tugas = [\"Dokumen\",\"Desain\",\"Pengembangan\",\"Pengujian\",\"Peluncuran\"]\n",
    "#1\n",
    "tugas.append(\"Dokumentasi\")\n",
    "print(tugas)\n",
    "#2\n",
    "tugas.remove(\"Pengujian\")\n",
    "print(tugas)\n",
    "#3\n",
    "tugas2 =tugas.copy()\n",
    "print(tugas2)\n",
    "#4 menghitung berapa kali tugas desain muncul dalam daftar\n",
    "print(f'Tugas Desain muncul : {tugas.count(\"Desain\")} kali')\n",
    "#5\n",
    "tugas.sort()\n",
    "print(tugas)\n",
    "#6\n",
    "tugas.reverse()\n",
    "print(tugas)\n",
    "#7\n",
    "tugas.insert(1,\"Evaluasi\")\n",
    "print(tugas)"
   ]
  },
  {
   "cell_type": "markdown",
   "id": "424c1d71",
   "metadata": {},
   "source": [
    "## QUIZ TIME!"
   ]
  },
  {
   "cell_type": "code",
   "execution_count": 50,
   "id": "7d987689",
   "metadata": {},
   "outputs": [
    {
     "name": "stdout",
     "output_type": "stream",
     "text": [
      "[200, 150, 175, 125]\n",
      "[45.0, 67.5, 90.0, 180.0, 135.0, 157.5, 112.5]\n"
     ]
    }
   ],
   "source": [
    "harga_produk = [50,75,100,200,150,175,125]\n",
    "#1\n",
    "harga_produk2 = [i for i in harga_produk if i >100]\n",
    "print(harga_produk2)\n",
    "#2\n",
    "harga_produk3 = [i*0.9 for i in harga_produk]\n",
    "print(harga_produk3)"
   ]
  },
  {
   "cell_type": "markdown",
   "id": "4088451c",
   "metadata": {},
   "source": [
    "### Tuple"
   ]
  },
  {
   "cell_type": "code",
   "execution_count": 59,
   "id": "06d5c3ea",
   "metadata": {},
   "outputs": [
    {
     "name": "stdout",
     "output_type": "stream",
     "text": [
      "('physics', 'chemistry', 1997, 2000)\n",
      "(12, 34.56, 'abc', 'xyz')\n"
     ]
    },
    {
     "data": {
      "text/plain": [
       "('physics', 'chemistry', 1997, 2000)"
      ]
     },
     "execution_count": 59,
     "metadata": {},
     "output_type": "execute_result"
    }
   ],
   "source": [
    "tup = ('physics', 'chemistry',1997,2000)\n",
    "print(tup)\n",
    "#tup[0]=100\n",
    "\n",
    "tup1 = (12,34.56)\n",
    "tup2 = ('abc','xyz')\n",
    "tup3 = tup1+tup2\n",
    "print(tup3)\n",
    "tup = ['physics', 'chemistry',1997,2000]\n",
    "tuple(tup)\n"
   ]
  },
  {
   "cell_type": "markdown",
   "id": "35c696b0",
   "metadata": {},
   "source": [
    "## QUIZ TIME!"
   ]
  },
  {
   "cell_type": "code",
   "execution_count": 92,
   "id": "ff8652d2",
   "metadata": {},
   "outputs": [
    {
     "name": "stdout",
     "output_type": "stream",
     "text": [
      "Total penjualan : 1570.00\n",
      "Penjualan Tertinggi : 300\n",
      "Penjualan Terendah : 150\n",
      "Rata-rata Penjualan : 224.29\n",
      "[3, 5, 7]\n",
      "[3, 5, 7]\n",
      "Hari ke :  3 5 7 "
     ]
    }
   ],
   "source": [
    "penjualan_mingguan = (150,200,250,180,300,220,270)\n",
    "#1\n",
    "print(f'Total penjualan : {sum(penjualan_mingguan):.2f}')\n",
    "#2\n",
    "print(f'Penjualan Tertinggi : {max(penjualan_mingguan)}')\n",
    "print(f'Penjualan Terendah : {min(penjualan_mingguan)}')\n",
    "#3\n",
    "print(f'Rata-rata Penjualan : {sum(penjualan_mingguan)/len(penjualan_mingguan):.2f}')\n",
    "rata_rata = sum(penjualan_mingguan)/len(penjualan_mingguan)\n",
    "#4\n",
    "rata = [i for i in penjualan_mingguan if i > sum(penjualan_mingguan)/len(penjualan_mingguan)]\n",
    "print([penjualan_mingguan.index(x)+1 for x in penjualan_mingguan if x > rata_rata])\n",
    "print([penjualan_mingguan.index(x)+1 for x in penjualan_mingguan if x in rata])\n",
    "hari_penjualan_rata = [penjualan_mingguan.index(x)+1 for x in penjualan_mingguan if x in rata]\n",
    "\n",
    "print(f'Hari ke : ',end=' ')\n",
    "for hari in hari_penjualan_rata:\n",
    "    print(f'{hari}',end=' ')"
   ]
  },
  {
   "cell_type": "markdown",
   "id": "4239c810",
   "metadata": {},
   "source": [
    "## Join Sets"
   ]
  },
  {
   "cell_type": "code",
   "execution_count": 95,
   "id": "7c41e6a1",
   "metadata": {},
   "outputs": [
    {
     "name": "stdout",
     "output_type": "stream",
     "text": [
      "{1, 2, 3, 4, 5, 6, 7, 8}\n",
      "{1, 2, 3, 4, 5, 6, 7, 8}\n",
      "{1, 2, 3, 4, 5}\n",
      "{73, 6, 8, 9, 45}\n",
      "Intersection s1 & s2 :  {3}\n",
      "Intersection of s3 & s4 :  {8, 9}\n",
      "Difference s1 & s2 :  {1, 2}\n",
      "Difference s3 & s4 :  {6}\n",
      "{1, 2, 4, 5}\n",
      "{73, 6}\n"
     ]
    }
   ],
   "source": [
    "#Join using | operator\n",
    "s1 = {1,2,3,4,5}\n",
    "s2 = {4,5,6,7,8}\n",
    "s3 = s1|s2\n",
    "print(s3)\n",
    "#Join sets using union() method\n",
    "s1 = {1,2,3,4,5}\n",
    "s2 = {4,5,6,7,8}\n",
    "s3 = s1.union(s2)\n",
    "print(s3)\n",
    "#Python set union operator\n",
    "s1 = {1,2,3}\n",
    "s2 = {3,4,5}\n",
    "s3 = {6,8,9}\n",
    "s4 = {9,45,73}\n",
    "union_set1 = s1.union(s2)\n",
    "union_set2 = s3 | s4\n",
    "print(union_set1)\n",
    "print(union_set2)\n",
    "#Python set intersection operator (&)\n",
    "s1 = {1,2,3}\n",
    "s2 = {3,4,5}\n",
    "s3 = {6,8,9}\n",
    "s4 = {9,8,73}\n",
    "intersection_s1 = s1.intersection(s2)\n",
    "intersection_s2 = s3 & s4\n",
    "print(\"Intersection s1 & s2 : \",intersection_s1)\n",
    "print(\"Intersection of s3 & s4 : \", intersection_s2)\n",
    "#Python set difference operator (-)\n",
    "s1 = {1,2,3}\n",
    "s2 = {3,4,5}\n",
    "s3 = {6,8,9}\n",
    "s4 = {9,8,73}\n",
    "diff_s1 = s1.difference(s2)\n",
    "diff_s2 = s3 -s4\n",
    "print('Difference s1 & s2 : ', diff_s1)\n",
    "print('Difference s3 & s4 : ', diff_s2)\n",
    "#Python set symmetric difference operator\n",
    "s1 = {1,2,3}\n",
    "s2 = {3,4,5}\n",
    "s3 = {6,8,9}\n",
    "s4 = {9,8,73}\n",
    "symmetric_diff_s1 = s1.symmetric_difference(s2)\n",
    "symmetric_diff_s2 = s3 ^ s4\n",
    "print(symmetric_diff_s1)\n",
    "print(symmetric_diff_s2)"
   ]
  },
  {
   "cell_type": "markdown",
   "id": "5c845635",
   "metadata": {},
   "source": [
    "## QUIZ TIME!"
   ]
  },
  {
   "cell_type": "code",
   "execution_count": 98,
   "id": "18c03b58",
   "metadata": {},
   "outputs": [
    {
     "name": "stdout",
     "output_type": "stream",
     "text": [
      "Produk yang ada di dua gudang :  {104, 105, 106}\n",
      "Produk yang hanya ada di gudang A :  {101, 102, 103}\n",
      "Produk yang setidaknya ada di salah satu gudang :  {101, 102, 103, 104, 105, 106, 107, 108, 109}\n",
      "Produk yang hanya ada di gudang A :  {107, 108, 109}\n"
     ]
    }
   ],
   "source": [
    "stok_gudang_A = {101,102,103,104,105,106}\n",
    "stok_gudang_B = {104,105,106,107,108,109}\n",
    "#1\n",
    "no1 = stok_gudang_A & stok_gudang_B\n",
    "print(\"Produk yang ada di dua gudang : \", no1)\n",
    "#2\n",
    "no2 = stok_gudang_A - stok_gudang_B\n",
    "print(\"Produk yang hanya ada di gudang A : \", no2)\n",
    "#3\n",
    "no3 = stok_gudang_A | stok_gudang_B\n",
    "print(\"Produk yang setidaknya ada di salah satu gudang : \", no3)\n",
    "#4\n",
    "no4 = stok_gudang_B - stok_gudang_A\n",
    "print(\"Produk yang hanya ada di gudang A : \", no4)\n"
   ]
  },
  {
   "cell_type": "markdown",
   "id": "bcc2e473",
   "metadata": {},
   "source": [
    "## Dictionaries"
   ]
  },
  {
   "cell_type": "markdown",
   "id": "c1efda37",
   "metadata": {},
   "source": [
    "Pasangan antara key dan value (mirip kaya set)\n",
    "- unordered\n",
    "- mutable\n",
    "- indexed\n",
    "- unique keys\n",
    "- heterogeneous"
   ]
  },
  {
   "cell_type": "code",
   "execution_count": 138,
   "id": "cb4328ad",
   "metadata": {},
   "outputs": [
    {
     "name": "stdout",
     "output_type": "stream",
     "text": [
      "Dictionary using curly braces :  {'name': 'Sachin Tendulkar', 'age': 48, 'Sport': 'Cricket'}\n",
      "Dictionary using dict() :  {'name': 'Abel', 'age': 23, 'major': 'Math'}\n"
     ]
    }
   ],
   "source": [
    "sports_player = {\n",
    "    'name' : 'Sachin Tendulkar',\n",
    "    'age' : 48,\n",
    "    'Sport' : 'Cricket'\n",
    "}\n",
    "print('Dictionary using curly braces : ', sports_player)\n",
    "\n",
    "student_info = dict(name='Abel', age=23,major='Math')\n",
    "print(\"Dictionary using dict() : \", student_info)"
   ]
  },
  {
   "cell_type": "code",
   "execution_count": 102,
   "id": "eab32741",
   "metadata": {},
   "outputs": [
    {
     "name": "stdout",
     "output_type": "stream",
     "text": [
      "Name :  Abel\n",
      "Age :  23\n"
     ]
    }
   ],
   "source": [
    "# Accessing dictionary items\n",
    "name = student_info[\"name\"]\n",
    "print(\"Name : \",name)\n",
    "age= student_info['age']\n",
    "print('Age : ',age)"
   ]
  },
  {
   "cell_type": "code",
   "execution_count": 114,
   "id": "8da5e8d4",
   "metadata": {},
   "outputs": [
    {
     "name": "stdout",
     "output_type": "stream",
     "text": [
      "{'name': 'Abel', 'age': 24, 'major': 'Math', 'graduation_year': 2024}\n",
      "{'name': 'Abel', 'age': 24}\n"
     ]
    }
   ],
   "source": [
    "# Modifying Dictionary Items\n",
    "student_info['age'] = 24\n",
    "student_info['graduation_year'] =2024\n",
    "print(student_info)\n",
    "\n",
    "# Removing Dictionary Items\n",
    "del student_info['major']\n",
    "graduation_year = student_info.pop('graduation_year')\n",
    "print(student_info)"
   ]
  },
  {
   "cell_type": "code",
   "execution_count": 110,
   "id": "2f477290",
   "metadata": {},
   "outputs": [
    {
     "name": "stdout",
     "output_type": "stream",
     "text": [
      "[{'name': 'Abel', 'age': 24}, {'name': 'Sachin Tendulkar', 'age': 48, 'Sport': 'Cricket'}]\n"
     ]
    }
   ],
   "source": [
    "listlist = [student_info,sports_player]\n",
    "print(listlist)"
   ]
  },
  {
   "cell_type": "code",
   "execution_count": 141,
   "id": "f27b0ea4",
   "metadata": {},
   "outputs": [
    {
     "name": "stdout",
     "output_type": "stream",
     "text": [
      "Keys :  name Abel\n",
      "Keys :  age 23\n",
      "Keys :  major Math\n",
      "Values :  Abel\n",
      "Values :  23\n",
      "Values :  Math\n",
      "Key : Value :  name Abel\n",
      "Key : Value :  age 23\n",
      "Key : Value :  major Math\n"
     ]
    }
   ],
   "source": [
    "for key in student_info:\n",
    "    print(\"Keys : \",key, student_info[key])\n",
    "for value in student_info.values():\n",
    "    print(\"Values : \",value)\n",
    "for key, value in student_info.items():\n",
    "    print(\"Key : Value : \",key,value)"
   ]
  },
  {
   "cell_type": "markdown",
   "id": "5d2a2eda",
   "metadata": {},
   "source": [
    "## QUIZ\n"
   ]
  },
  {
   "cell_type": "code",
   "execution_count": null,
   "id": "c592dbcc",
   "metadata": {},
   "outputs": [
    {
     "name": "stdout",
     "output_type": "stream",
     "text": [
      "{'name': 'abel', 'age': 23, 'major': 'math', 'grad': 2024}\n",
      "{'name': 'abel2', 'age': 24, 'major': 'math2', 'grad': 2025}\n",
      "{'name': 'abel3', 'age': 25, 'major': 'math3', 'grad': 2026}\n",
      "abel2\n",
      "24\n",
      "math2\n",
      "2025\n",
      " \n",
      "name abel\n",
      "age 23\n",
      "major math\n",
      "grad 2024\n",
      " \n",
      "name abel2\n",
      "age 24\n",
      "major math2\n",
      "grad 2025\n",
      " \n",
      "name abel3\n",
      "age 25\n",
      "major math3\n",
      "grad 2026\n"
     ]
    }
   ],
   "source": [
    "student1 = {\n",
    "    'name' : 'abel',\n",
    "    'age' : 23,\n",
    "    'major' : 'math',\n",
    "    'grad' : 2024\n",
    "}\n",
    "student2 = {\n",
    "    'name' : 'abel2',\n",
    "    'age' : 24,\n",
    "    'major' : 'math2',\n",
    "    'grad' : 2025\n",
    "}\n",
    "student3 = {\n",
    "    'name' : 'abel3',\n",
    "    'age' : 25,\n",
    "    'major' : 'math3',\n",
    "    'grad' : 2026\n",
    "}\n",
    "liststud = [student1,student2,student3]\n",
    "for key in liststud:\n",
    "    print(key)\n",
    "\n",
    "for value in liststud[1].values():\n",
    "    print(value)\n",
    "    \n",
    "for i in liststud:\n",
    "    print(\" \")\n",
    "    for key,value in i.items():\n",
    "        print(key,value)\n",
    "        "
   ]
  },
  {
   "cell_type": "code",
   "execution_count": 197,
   "id": "a3fdbca7",
   "metadata": {},
   "outputs": [
    {
     "name": "stdout",
     "output_type": "stream",
     "text": [
      "Student : Alice\n",
      " age : 24\n",
      " major : 24\n",
      " GPA : 24\n",
      "Student : Bob\n",
      " age : 24\n",
      " major : 24\n",
      "Student : Charlie\n",
      " age : 24\n",
      " major : 24\n",
      "Alice\n"
     ]
    }
   ],
   "source": [
    "students = {\n",
    "    \"Alice\": {'age':'21','major':'Comp Sci'},\n",
    "    'Bob': {'age':20,'major':'Engineering'}\n",
    "}\n",
    "students['Alice']['GPA']=3.8\n",
    "# students['Alice']\n",
    "students['Charlie'] = {'age':22,'major':'math'}\n",
    "# print(students)\n",
    "\n",
    "for student, details in students.items():\n",
    "    print(f'Student : {student}')\n",
    "    for key,value in details.items():\n",
    "        print(f' {key} : {values}')\n",
    "print(list(students.keys())[0])"
   ]
  },
  {
   "cell_type": "markdown",
   "id": "7ffa76bc",
   "metadata": {},
   "source": [
    "## QUIZ TIME"
   ]
  },
  {
   "cell_type": "code",
   "execution_count": 225,
   "id": "253bd776",
   "metadata": {},
   "outputs": [
    {
     "name": "stdout",
     "output_type": "stream",
     "text": [
      "Bob\n",
      " \n",
      "22.0\n",
      " \n",
      "Bob\n",
      "age 23\n",
      "major Engineering\n",
      "Charlie\n",
      "age 22\n",
      "major mathematics\n",
      " \n"
     ]
    }
   ],
   "source": [
    "students = {\n",
    "    \"Alice\": {'age':21,'major':'Comp Sci'},\n",
    "    'Bob': {'age':23,'major':'Engineering'},\n",
    "    'Charlie':{'age':22,'major':'mathematics'}\n",
    "}\n",
    "#1\n",
    "umur=0\n",
    "name = ' '\n",
    "for student,details in students.items():\n",
    "    if details['age'] > umur:\n",
    "        umur = details['age']\n",
    "        name = student\n",
    "print(name)\n",
    "print(\" \")\n",
    "\n",
    "#2\n",
    "total =0\n",
    "for student,details in students.items():\n",
    "    total += details['age']\n",
    "total = total/3\n",
    "print(total)\n",
    "print(\" \")\n",
    "#3\n",
    "for student,details in students.items():\n",
    "    if details['age'] > 21:\n",
    "        print(student)\n",
    "        for key, value in details.items():\n",
    "            print(key,value)\n",
    "print(' ')\n"
   ]
  },
  {
   "cell_type": "markdown",
   "id": "be4ed0da",
   "metadata": {},
   "source": [
    "## NumPy"
   ]
  },
  {
   "cell_type": "code",
   "execution_count": null,
   "id": "b53c7981",
   "metadata": {},
   "outputs": [
    {
     "name": "stdout",
     "output_type": "stream",
     "text": [
      "[1 2 3]\n",
      "(3,)\n",
      "[[1 2]\n",
      " [3 4]]\n",
      "(2, 2)\n",
      "[[1 2 3 4 5]]\n",
      "(1, 5)\n"
     ]
    }
   ],
   "source": [
    "# EXAMPLE\n",
    "import numpy as np\n",
    "a = np.array([1,2,3])\n",
    "print(a)\n",
    "print(a.shape)\n",
    "a = np.array([[1,2],[3,4]])\n",
    "print(a)\n",
    "print(a.shape)\n",
    "a = np.array([1,2,3,4,5], ndmin=2)\n",
    "print(a)\n",
    "print(a.shape)\n"
   ]
  },
  {
   "cell_type": "code",
   "execution_count": null,
   "id": "c49a80c6",
   "metadata": {},
   "outputs": [
    {
     "name": "stdout",
     "output_type": "stream",
     "text": [
      "[[1 2]\n",
      " [3 4]\n",
      " [5 6]]\n",
      "[[1 2]\n",
      " [3 4]\n",
      " [5 6]]\n",
      "[ 0  1  2  3  4  5  6  7  8  9 10 11 12 13 14 15 16 17 18 19 20 21 22 23]\n"
     ]
    }
   ],
   "source": [
    "a = np.array([[1,2,3],[4,5,6]])\n",
    "a.shape = (3,2)\n",
    "print(a)\n",
    "a = np.array([[1,2,3],[4,5,6]])\n",
    "b = a.reshape(3,2)\n",
    "print(b)\n",
    "c = np.arange(24)\n",
    "print(c)"
   ]
  },
  {
   "cell_type": "code",
   "execution_count": 35,
   "id": "bc7e74c6",
   "metadata": {},
   "outputs": [
    {
     "name": "stdout",
     "output_type": "stream",
     "text": [
      "[[[ 0  1]\n",
      "  [ 2  3]]\n",
      "\n",
      " [[ 4  5]\n",
      "  [ 6  7]]\n",
      "\n",
      " [[ 8  9]\n",
      "  [10 11]]\n",
      "\n",
      " [[12 13]\n",
      "  [14 15]]\n",
      "\n",
      " [[16 17]\n",
      "  [18 19]]\n",
      "\n",
      " [[20 21]\n",
      "  [22 23]]]\n",
      "(6, 2, 2)\n"
     ]
    }
   ],
   "source": [
    "c.ndim\n",
    "c = c.reshape(6,2,2)\n",
    "print(c)\n",
    "print(c.shape)"
   ]
  },
  {
   "cell_type": "markdown",
   "id": "5de901f0",
   "metadata": {},
   "source": [
    "## numpy.arange"
   ]
  },
  {
   "cell_type": "code",
   "execution_count": null,
   "id": "10b6c305",
   "metadata": {},
   "outputs": [
    {
     "name": "stdout",
     "output_type": "stream",
     "text": [
      "[0 2 4 6 8]\n",
      "[0 1 2 3 4]\n",
      "[0. 1. 2. 3. 4.]\n"
     ]
    }
   ],
   "source": [
    "print(np.arange(0,10,2))\n",
    "x = np.arange(5)\n",
    "print(x)\n",
    "x = np.arange(5, dtype=float)\n",
    "print(x)"
   ]
  },
  {
   "cell_type": "code",
   "execution_count": 42,
   "id": "63794da9",
   "metadata": {},
   "outputs": [
    {
     "name": "stdout",
     "output_type": "stream",
     "text": [
      "[2 4 6]\n",
      "[2 4 6]\n"
     ]
    }
   ],
   "source": [
    "a = np.arange(10)\n",
    "s = slice(2,7,2)\n",
    "print(a[s])\n",
    "b = a[2:7:2]\n",
    "print(b)"
   ]
  },
  {
   "cell_type": "code",
   "execution_count": 92,
   "id": "4d085d22",
   "metadata": {},
   "outputs": [
    {
     "name": "stdout",
     "output_type": "stream",
     "text": [
      "[[1 2 3]\n",
      " [3 4 5]\n",
      " [4 5 6]]\n",
      "[[3]\n",
      " [4]]\n",
      "(2, 1)\n"
     ]
    }
   ],
   "source": [
    "a = np.array([[1,2,3],\n",
    "              [3,4,5],\n",
    "              [4,5,6]])\n",
    "print(a)\n",
    "print(a[1:,0:1])\n",
    "print(a[1:,0:1].shape)"
   ]
  },
  {
   "cell_type": "code",
   "execution_count": null,
   "id": "f9ef4a09",
   "metadata": {},
   "outputs": [
    {
     "name": "stdout",
     "output_type": "stream",
     "text": [
      "[[1 2]\n",
      " [3 4]\n",
      " [4 5]]\n",
      "[[3]\n",
      " [5]\n",
      " [6]]\n"
     ]
    }
   ],
   "source": [
    "X = a[:,:-1] #[:,0:2]\n",
    "print(X)\n",
    "y = a[:,-1:] #[:,2:]\n",
    "print(y)"
   ]
  },
  {
   "cell_type": "code",
   "execution_count": 76,
   "id": "e2e77b24",
   "metadata": {},
   "outputs": [
    {
     "name": "stdout",
     "output_type": "stream",
     "text": [
      "[[ 0  5 10 15]\n",
      " [20 25 30 35]\n",
      " [40 45 50 55]]\n",
      "0 5 10 15 20 25 30 35 40 45 50 55 "
     ]
    }
   ],
   "source": [
    "a = np.arange(0,60,5)\n",
    "a = a.reshape(3,4)\n",
    "print(a)\n",
    "for x in np.nditer(a):\n",
    "    print(x, end=' ')"
   ]
  },
  {
   "cell_type": "code",
   "execution_count": 89,
   "id": "b02f511a",
   "metadata": {},
   "outputs": [
    {
     "name": "stdout",
     "output_type": "stream",
     "text": [
      "Sine of different angles: \n",
      "[0.         0.5        0.70710678 0.8660254  1.        ]\n",
      "\n",
      "\n",
      "Cosine values for angles in array: \n",
      "[1.00000000e+00 8.66025404e-01 7.07106781e-01 5.00000000e-01\n",
      " 6.12323400e-17]\n",
      "\n",
      "\n",
      "Tangent values for given angles: \n",
      "[0.00000000e+00 5.77350269e-01 1.00000000e+00 1.73205081e+00\n",
      " 1.63312394e+16]\n"
     ]
    }
   ],
   "source": [
    "# Trigonometric\n",
    "a = np.array([0,30,45,60,90])\n",
    "print('Sine of different angles: ')\n",
    "print(np.sin(a*np.pi/180))\n",
    "print('\\n')\n",
    "print('Cosine values for angles in array: ')\n",
    "print(np.cos(a*np.pi/180))\n",
    "print('\\n')\n",
    "print('Tangent values for given angles: ')\n",
    "print(np.tan(a*np.pi/180))\n"
   ]
  },
  {
   "cell_type": "code",
   "execution_count": 90,
   "id": "81a58ec0",
   "metadata": {},
   "outputs": [
    {
     "name": "stdout",
     "output_type": "stream",
     "text": [
      "Original Array: \n",
      "[  1.      5.55  123.      0.567  25.532]\n",
      "\n",
      "\n",
      "After rounding:\n",
      "[  1.   6. 123.   1.  26.]\n",
      "[  1.    5.6 123.    0.6  25.5]\n",
      "[  0.  10. 120.   0.  30.]\n"
     ]
    }
   ],
   "source": [
    "# Rounding\n",
    "a = np.array([1.0,5.55,123,0.567,25.532])\n",
    "print('Original Array: ')\n",
    "print(a)\n",
    "print('\\n')\n",
    "print('After rounding:')\n",
    "print(np.around(a))\n",
    "print(np.around(a,decimals=1))\n",
    "print(np.around(a,decimals=-1))"
   ]
  },
  {
   "cell_type": "code",
   "execution_count": 97,
   "id": "b72162fb",
   "metadata": {},
   "outputs": [
    {
     "name": "stdout",
     "output_type": "stream",
     "text": [
      "[[0. 1. 2.]\n",
      " [3. 4. 5.]\n",
      " [6. 7. 8.]]\n"
     ]
    }
   ],
   "source": [
    "a = np.arange(9, dtype=float).reshape(3,3)\n",
    "print(a)"
   ]
  },
  {
   "cell_type": "markdown",
   "id": "0d9b74a8",
   "metadata": {},
   "source": [
    "#### argmax() untuk cari index dari value array yg paling gede\n",
    "## Matplotlib"
   ]
  },
  {
   "cell_type": "code",
   "execution_count": 101,
   "id": "9d805a30",
   "metadata": {},
   "outputs": [
    {
     "name": "stdout",
     "output_type": "stream",
     "text": [
      "[ 1  2  3  4  5  6  7  8  9 10]\n"
     ]
    },
    {
     "data": {
      "image/png": "[encoded data removed]",
      "text/plain": [
       "<Figure size 640x480 with 1 Axes>"
      ]
     },
     "metadata": {},
     "output_type": "display_data"
    }
   ],
   "source": [
    "# %pip install matplotlib\n",
    "from matplotlib import pyplot as plt\n",
    "x = np.arange(1,11)\n",
    "print(x)\n",
    "y = 2*x + 5\n",
    "plt.title('Matplotlib demo')\n",
    "plt.xlabel('x axis caption')\n",
    "plt.ylabel('y axis caption')\n",
    "plt.plot(x,y)\n",
    "plt.show()"
   ]
  },
  {
   "cell_type": "code",
   "execution_count": 102,
   "id": "1a886bf3",
   "metadata": {},
   "outputs": [
    {
     "name": "stdout",
     "output_type": "stream",
     "text": [
      "[ 1  2  3  4  5  6  7  8  9 10]\n"
     ]
    },
    {
     "data": {
      "image/png": "[encoded data removed]",
      "text/plain": [
       "<Figure size 640x480 with 1 Axes>"
      ]
     },
     "metadata": {},
     "output_type": "display_data"
    }
   ],
   "source": [
    "x = np.arange(1,11)\n",
    "print(x)\n",
    "y = 2*x + 5\n",
    "plt.title('Matplotlib demo')\n",
    "plt.xlabel('x axis caption')\n",
    "plt.ylabel('y axis caption')\n",
    "plt.plot(x,y,\"ob\")\n",
    "plt.show()"
   ]
  },
  {
   "cell_type": "code",
   "execution_count": 103,
   "id": "62a35f2f",
   "metadata": {},
   "outputs": [
    {
     "data": {
      "image/png": "[encoded data removed]",
      "text/plain": [
       "<Figure size 640x480 with 1 Axes>"
      ]
     },
     "metadata": {},
     "output_type": "display_data"
    }
   ],
   "source": [
    "x = [5,8,10]\n",
    "y = [12,16,6]\n",
    "x2 = [6,9,11]\n",
    "y2 = [6,15,7]\n",
    "plt.bar(x,y, align='center')\n",
    "plt.bar(x2,y2, color='g',align='center')\n",
    "plt.title('Bar graph')\n",
    "plt.ylabel('Y Axis')\n",
    "plt.xlabel('X Axis')\n",
    "plt.show()"
   ]
  },
  {
   "cell_type": "markdown",
   "id": "012dc190",
   "metadata": {},
   "source": [
    "## QUIZ TIME: Analisis Data Suhu Kota"
   ]
  },
  {
   "cell_type": "code",
   "execution_count": null,
   "id": "9849e5be",
   "metadata": {},
   "outputs": [
    {
     "name": "stdout",
     "output_type": "stream",
     "text": [
      "Rata-rata suhu setiap kota: [30.6 22.9 20.4 26.7 29.1]\n",
      " \n",
      "Hari terpanas setiap kota: [5 5 4 3 5]\n",
      " \n",
      "[5 4 3 3 4]\n",
      "Variasi suhu : Kota 3 (variansi = 3)\n",
      " \n",
      "Perubahan suhu harian tiap kota: \n",
      "[[ 2 -1 -2  4  1 -2]\n",
      " [-1  2 -1  2  1 -2]\n",
      " [ 1  1 -1  2 -1 -1]\n",
      " [ 1  1  1 -2  1  1]\n",
      " [-1 -1 -1  3  1 -2]]\n",
      " \n",
      "Kota 1 : panas selama 4 hari\n",
      "Kota 2 : panas selama 0 hari\n",
      "Kota 3 : panas selama 0 hari\n",
      "Kota 4 : panas selama 0 hari\n",
      "Kota 5 : panas selama 1 hari\n",
      " \n",
      "Correct Answer/Better Answer\n",
      "Jumlah hari di setiap kota yang melebihi 3 derajat: [4 0 0 0 1]\n"
     ]
    }
   ],
   "source": [
    "data = np.array([[29,31,30,28,32,33,31],\n",
    "                [22,21,23,22,24,25,23],\n",
    "                [19,20,21,20,22,21,20],\n",
    "                [25,26,27,28,26,27,28],\n",
    "                [30,29,28,27,30,31,29]])\n",
    "#1\n",
    "# for i in range(len(data)):\n",
    "#     print(f'Rata-rata suhu di Kota {i} : {np.mean(data[i]):.2f}')\n",
    "rata_rata_suhu = np.mean(data, axis=1)\n",
    "print(f'Rata-rata suhu setiap kota: {np.around(rata_rata_suhu,decimals=1)}')\n",
    "print(\" \")\n",
    "#2\n",
    "hari_terpanas = np.argmax(data, axis=1)\n",
    "print(f'Hari terpanas setiap kota: {hari_terpanas}')\n",
    "print(\" \")\n",
    "#3\n",
    "# variasi = np.max(data, axis=1) - np.min(data,axis=1)\n",
    "variasi = np.ptp(data,axis=1)\n",
    "print(variasi)\n",
    "variasi_terkecil = np.argmin(variasi)\n",
    "print(f'Variasi suhu : Kota {variasi_terkecil+1} (variansi = {variasi[variasi_terkecil]})')\n",
    "print(\" \")\n",
    "#4\n",
    "perubahan_suhu = np.diff(data, axis=1)\n",
    "print(f'Perubahan suhu harian tiap kota: \\n{perubahan_suhu}')\n",
    "print(\" \")\n",
    "#5\n",
    "for i in range(len(data)):\n",
    "    x = 0\n",
    "    for y in range(len(data[i])):\n",
    "        if data[i][y] > 30:\n",
    "            x += 1\n",
    "    print(f'Kota {i+1} : panas selama {x} hari')   \n",
    "print(\" \")\n",
    "#correct answer\n",
    "print(\"Correct Answer/Better Answer\")\n",
    "suhu_diatas_30 = np.sum(data >30 ,axis=1)\n",
    "print(f'Jumlah hari di setiap kota yang melebihi 30 derajat: {suhu_diatas_30}')"
   ]
  },
  {
   "cell_type": "markdown",
   "id": "a0233a74",
   "metadata": {},
   "source": [
    "## QUIZ: Visualisasi Data"
   ]
  },
  {
   "cell_type": "code",
   "execution_count": 14,
   "id": "a20bfda5",
   "metadata": {},
   "outputs": [
    {
     "data": {
      "image/png": "[encoded data removed]",
      "text/plain": [
       "<Figure size 640x480 with 1 Axes>"
      ]
     },
     "metadata": {},
     "output_type": "display_data"
    }
   ],
   "source": [
    "import numpy as np\n",
    "from matplotlib import pyplot as plt\n",
    "data_penjualan = np.array([[50,60,55,70],\n",
    "                           [40,45,50,55],\n",
    "                           [30,35,30,40]])\n",
    "x = np.arange(1,5)\n",
    "#1 \n",
    "plt.plot(x,data_penjualan[0],label='Produk A',marker='o')\n",
    "plt.plot(x,data_penjualan[1],label='Produk B',marker='o')\n",
    "plt.plot(x,data_penjualan[2],label='Produk C',marker='o')\n",
    "plt.legend()\n",
    "plt.title('Penjualan')\n",
    "plt.ylabel('Y Axis')\n",
    "plt.xlabel('Minggu')\n",
    "plt.xticks([1,2,3,4])\n",
    "plt.grid()\n",
    "plt.show()"
   ]
  },
  {
   "cell_type": "code",
   "execution_count": 22,
   "id": "2cf23ac9",
   "metadata": {},
   "outputs": [
    {
     "name": "stdout",
     "output_type": "stream",
     "text": [
      "[1. 2. 3. 4.]\n",
      "[1 2 3 4]\n"
     ]
    },
    {
     "data": {
      "image/png": "[encoded data removed]",
      "text/plain": [
       "<Figure size 640x480 with 1 Axes>"
      ]
     },
     "metadata": {},
     "output_type": "display_data"
    }
   ],
   "source": [
    "#2 \n",
    "x = np.linspace(1,4,4)\n",
    "y = np.arange(1,5,1)\n",
    "listproduk = ['Produk A', 'Produk B','Produk C']\n",
    "print(x)\n",
    "print(y)\n",
    "for i in range(len(data_penjualan)):\n",
    "    plt.bar(x,data_penjualan[i],label=listproduk[i],align='center')\n",
    "\n",
    "plt.legend()\n",
    "plt.title('Penjualan')\n",
    "plt.ylabel('Y Axis')\n",
    "plt.xlabel('Minggu')\n",
    "plt.xticks([1,2,3,4])\n",
    "plt.show()"
   ]
  },
  {
   "cell_type": "code",
   "execution_count": 20,
   "id": "50f64df7",
   "metadata": {},
   "outputs": [
    {
     "data": {
      "image/png": "[encoded data removed]",
      "text/plain": [
       "<Figure size 640x480 with 1 Axes>"
      ]
     },
     "metadata": {},
     "output_type": "display_data"
    }
   ],
   "source": [
    "#total penjualan setiap minggu\n",
    "total_penjualan_mingguan = np.sum(data_penjualan, axis=0)\n",
    "x = np.linspace(1,4,4)\n",
    "plt.bar(x,total_penjualan_mingguan, color='skyblue')\n",
    "plt.title('Total Penjualan Tiap Minggu')\n",
    "plt.xlabel('Minggu')\n",
    "plt.ylabel('Produk')\n",
    "plt.xticks(x,[1,2,3,4])\n",
    "plt.show()"
   ]
  },
  {
   "cell_type": "code",
   "execution_count": 21,
   "id": "7f59f783",
   "metadata": {},
   "outputs": [
    {
     "data": {
      "image/png": "[encoded data removed]",
      "text/plain": [
       "<Figure size 640x480 with 1 Axes>"
      ]
     },
     "metadata": {},
     "output_type": "display_data"
    }
   ],
   "source": [
    "#total penjualan setiap minggu\n",
    "total_penjualan_mingguan = np.sum(data_penjualan, axis=1)\n",
    "x = np.linspace(1,3,3)\n",
    "plt.bar(x,total_penjualan_mingguan, color='skyblue')\n",
    "plt.title('Total Penjualan Tiap Minggu')\n",
    "plt.xlabel('Minggu')\n",
    "plt.ylabel('Produk')\n",
    "plt.xticks(x,['Produk A','Produk B','Produk C'])\n",
    "plt.show()"
   ]
  },
  {
   "cell_type": "code",
   "execution_count": 18,
   "id": "035fc72e",
   "metadata": {},
   "outputs": [
    {
     "name": "stdout",
     "output_type": "stream",
     "text": [
      "[[10 -5 15]\n",
      " [ 5  5  5]\n",
      " [ 5 -5 10]]\n"
     ]
    },
    {
     "data": {
      "image/png": "[encoded data removed]",
      "text/plain": [
       "<Figure size 640x480 with 1 Axes>"
      ]
     },
     "metadata": {},
     "output_type": "display_data"
    }
   ],
   "source": [
    "#3\n",
    "import numpy as np\n",
    "data_selisih = np.diff(data_penjualan, axis=1)\n",
    "print(data_selisih)\n",
    "x=np.arange(1,4)\n",
    "plt.plot(x,data_selisih[0],label='Produk A',marker='o')\n",
    "plt.plot(x,data_selisih[1],label='Produk B',marker='o')\n",
    "plt.plot(x,data_selisih[2],label='Produk C',marker='o')\n",
    "plt.legend()\n",
    "plt.title('Penjualan')\n",
    "plt.ylabel('Y Axis')\n",
    "plt.xlabel('Minggu')\n",
    "plt.xticks([1,2,3])\n",
    "plt.grid()\n",
    "plt.show()"
   ]
  },
  {
   "cell_type": "code",
   "execution_count": 19,
   "id": "37c55ec0",
   "metadata": {},
   "outputs": [
    {
     "data": {
      "text/plain": [
       "<function matplotlib.pyplot.show(close=None, block=None)>"
      ]
     },
     "execution_count": 19,
     "metadata": {},
     "output_type": "execute_result"
    },
    {
     "data": {
      "image/png": "[encoded data removed]",
      "text/plain": [
       "<Figure size 1000x600 with 1 Axes>"
      ]
     },
     "metadata": {},
     "output_type": "display_data"
    }
   ],
   "source": [
    "#4\n",
    "weeks =np.arange(1,5)\n",
    "plt.figure(figsize=(10,6))\n",
    "for i, produk in enumerate(data_penjualan):\n",
    "    plt.plot(weeks, produk, marker='o',label=f'Produk {chr(65+i)}')\n",
    "plt.title('Tren Penjualan Produk')\n",
    "plt.xlabel('Minggu')\n",
    "plt.ylabel('Produk')\n",
    "plt.legend()\n",
    "plt.grid()\n",
    "plt.show"
   ]
  }
 ],
 "metadata": {
  "kernelspec": {
   "display_name": "myvenv",
   "language": "python",
   "name": "python3"
  },
  "language_info": {
   "codemirror_mode": {
    "name": "ipython",
    "version": 3
   },
   "file_extension": ".py",
   "mimetype": "text/x-python",
   "name": "python",
   "nbconvert_exporter": "python",
   "pygments_lexer": "ipython3",
   "version": "3.13.3"
  }
 },
 "nbformat": 4,
 "nbformat_minor": 5
}
