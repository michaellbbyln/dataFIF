{
 "cells": [
  {
   "cell_type": "code",
   "execution_count": 19,
   "id": "ddf0f5d9",
   "metadata": {},
   "outputs": [
    {
     "name": "stdout",
     "output_type": "stream",
     "text": [
      "[[], [], [1, 2], [], [3]]\n"
     ]
    }
   ],
   "source": [
    "x = [[], [], [], [], []]\n",
    "\n",
    "x[2].extend([1, 2])\n",
    "\n",
    "x[4] += [3]\n",
    "\n",
    "print(x)"
   ]
  },
  {
   "cell_type": "code",
   "execution_count": 3,
   "id": "85ba828a",
   "metadata": {},
   "outputs": [
    {
     "name": "stdout",
     "output_type": "stream",
     "text": [
      "True\n"
     ]
    }
   ],
   "source": [
    "def func(n):\n",
    "    return n % 2 == 0 and n // 2 == 3\n",
    "print(func(6))"
   ]
  },
  {
   "cell_type": "code",
   "execution_count": 6,
   "id": "89f5665c",
   "metadata": {},
   "outputs": [
    {
     "name": "stdout",
     "output_type": "stream",
     "text": [
      "5\n",
      "15\n",
      "10\n"
     ]
    }
   ],
   "source": [
    "def process(value, multiplier=1):\n",
    "    def inner(x):\n",
    "        return x * multiplier\n",
    "    return inner(value)\n",
    "\n",
    "print(process(5))\n",
    "\n",
    "print(process(5, 3))\n",
    "\n",
    "print(process(5, multiplier=2))\n",
    "\n",
    "\n"
   ]
  },
  {
   "cell_type": "code",
   "execution_count": 7,
   "id": "0629f3db",
   "metadata": {},
   "outputs": [
    {
     "name": "stdout",
     "output_type": "stream",
     "text": [
      "True\n"
     ]
    }
   ],
   "source": [
    "a = [1, 2, 3]\n",
    "\n",
    "b = a\n",
    "\n",
    "b.append(4)\n",
    "\n",
    "print(a is b)"
   ]
  },
  {
   "cell_type": "code",
   "execution_count": 9,
   "id": "12692740",
   "metadata": {},
   "outputs": [
    {
     "name": "stdout",
     "output_type": "stream",
     "text": [
      "negative\n",
      "zero\n",
      "positive\n"
     ]
    }
   ],
   "source": [
    "def h(n):\n",
    "    if n == 0:\n",
    "        return 'zero'\n",
    "    return 'positive' if n > 0 else 'negative'\n",
    "\n",
    "print(h(-5))\n",
    "\n",
    "print(h(0))\n",
    "\n",
    "print(h(5))"
   ]
  },
  {
   "cell_type": "code",
   "execution_count": 10,
   "id": "b94be82d",
   "metadata": {},
   "outputs": [
    {
     "name": "stdout",
     "output_type": "stream",
     "text": [
      "[[], [], [1, 2], [], [3]]\n"
     ]
    }
   ],
   "source": [
    "x = [[], [], [], [], []]\n",
    "\n",
    "x[2].extend([1, 2])\n",
    "\n",
    "x[4] += [3]\n",
    "\n",
    "print(x)"
   ]
  },
  {
   "cell_type": "code",
   "execution_count": 14,
   "id": "f6565eb5",
   "metadata": {},
   "outputs": [
    {
     "name": "stdout",
     "output_type": "stream",
     "text": [
      "1515\n"
     ]
    }
   ],
   "source": [
    "x = 5 \n",
    "y = '10' \n",
    "z = x + int(y)\n",
    "\n",
    "result = str(z) * 2\n",
    "\n",
    "print(result)"
   ]
  },
  {
   "cell_type": "code",
   "execution_count": 20,
   "id": "078c0f4a",
   "metadata": {},
   "outputs": [
    {
     "name": "stdout",
     "output_type": "stream",
     "text": [
      "[1]\n",
      "[3, 2]\n",
      "[1, 3]\n"
     ]
    }
   ],
   "source": [
    "def f(x, y=[]):\n",
    "    y.append(x)\n",
    "    return y\n",
    "\n",
    "print(f(1))\n",
    "\n",
    "print(f(2, [3]))\n",
    "\n",
    "print(f(3))"
   ]
  },
  {
   "cell_type": "code",
   "execution_count": 17,
   "id": "f1d23a69",
   "metadata": {},
   "outputs": [
    {
     "name": "stdout",
     "output_type": "stream",
     "text": [
      "105\n"
     ]
    }
   ],
   "source": [
    "product = 1\n",
    "\n",
    "for i in range(1, 8, 2):\n",
    "    product *= i\n",
    "\n",
    "print(product)"
   ]
  },
  {
   "cell_type": "code",
   "execution_count": 18,
   "id": "d2b9d22c",
   "metadata": {},
   "outputs": [
    {
     "name": "stdout",
     "output_type": "stream",
     "text": [
      "[1, 2, 3]\n"
     ]
    }
   ],
   "source": [
    "x = [1, 2, 3]\n",
    "\n",
    "y = x\n",
    "\n",
    "y = [4, 5, 6]\n",
    "\n",
    "print(x)\n"
   ]
  }
 ],
 "metadata": {
  "kernelspec": {
   "display_name": "Python 3",
   "language": "python",
   "name": "python3"
  },
  "language_info": {
   "codemirror_mode": {
    "name": "ipython",
    "version": 3
   },
   "file_extension": ".py",
   "mimetype": "text/x-python",
   "name": "python",
   "nbconvert_exporter": "python",
   "pygments_lexer": "ipython3",
   "version": "3.13.3"
  }
 },
 "nbformat": 4,
 "nbformat_minor": 5
}
