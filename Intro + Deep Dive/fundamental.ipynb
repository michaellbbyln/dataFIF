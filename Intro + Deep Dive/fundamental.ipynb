{
 "cells": [
  {
   "cell_type": "code",
   "execution_count": 1,
   "id": "318635c2",
   "metadata": {},
   "outputs": [
    {
     "name": "stdout",
     "output_type": "stream",
     "text": [
      "tes!\n"
     ]
    }
   ],
   "source": [
    "print(\"tes!\")"
   ]
  },
  {
   "cell_type": "code",
   "execution_count": 3,
   "id": "94661174",
   "metadata": {},
   "outputs": [
    {
     "name": "stdout",
     "output_type": "stream",
     "text": [
      "1\n",
      "<class 'float'>\n",
      "<class 'str'>\n"
     ]
    }
   ],
   "source": [
    "#fundamental\n",
    "var_int=1\n",
    "var_float=3.14\n",
    "var_string=\"Hello World\"\n",
    "#print\n",
    "print(var_int)\n",
    "#print type\n",
    "print(type(var_float))\n",
    "print(type(var_string))\n"
   ]
  },
  {
   "cell_type": "code",
   "execution_count": 11,
   "id": "9fc28003",
   "metadata": {},
   "outputs": [
    {
     "name": "stdout",
     "output_type": "stream",
     "text": [
      "var_int = 1\n",
      "var_int =  1 dan var_float = 3.14\n",
      "var_int = 1 var_float = 3.14\n",
      "var_int = 1 var_float = 3.14\n"
     ]
    }
   ],
   "source": [
    "\n",
    "print(\"var_int =\",var_int)\n",
    "print(\"var_int = \",var_int,\"dan var_float =\",var_float)\n",
    "print(\"var_int = {} var_float = {}\".format(var_int,var_float))\n",
    "print(f'var_int = {var_int} var_float = {var_float}')"
   ]
  },
  {
   "cell_type": "code",
   "execution_count": 12,
   "id": "73513c66",
   "metadata": {},
   "outputs": [
    {
     "name": "stdout",
     "output_type": "stream",
     "text": [
      "10 10 10\n"
     ]
    }
   ],
   "source": [
    "a=b=c=10\n",
    "print(a,b,c)"
   ]
  },
  {
   "cell_type": "code",
   "execution_count": 18,
   "id": "160c559c",
   "metadata": {},
   "outputs": [
    {
     "name": "stdout",
     "output_type": "stream",
     "text": [
      "Nama saya 10\n",
      "Kota saya 1\n"
     ]
    }
   ],
   "source": [
    "nama=input(\"Masukkan nama anda: \")\n",
    "kota=input(\"Masukkan kota anda: \")\n",
    "\n",
    "print(\"Nama saya\",nama)\n",
    "print(\"Kota saya\",kota)    "
   ]
  },
  {
   "cell_type": "code",
   "execution_count": 34,
   "id": "36e57db1",
   "metadata": {},
   "outputs": [
    {
     "name": "stdout",
     "output_type": "stream",
     "text": [
      "Hello World!\n",
      "H\n",
      "llo\n",
      "llo World!\n",
      "Hello World!Hello World!\n",
      "Hello World!TEST\n",
      "[1, 2, 3, 'empat', 'lima', 6.0, True]\n",
      "[1, 2, 3]\n"
     ]
    }
   ],
   "source": [
    "str = \"Hello World!\"\n",
    "print(str)\n",
    "print(str[0])  # H\n",
    "print(str[2:5])  # llo\n",
    "print(str[2:])  # llo World\n",
    "print(str * 2)  # Hello WorldHello World\n",
    "print(str + \"TEST\")  # Hello WorldTEST\n",
    "# List\n",
    "list1 = [1, 2, 3, 'empat', 'lima', 6.0, True]\n",
    "print(list1)\n",
    "print(list1[0:3])\n",
    "\n",
    "\n"
   ]
  },
  {
   "cell_type": "code",
   "execution_count": null,
   "id": "94180ba4",
   "metadata": {},
   "outputs": [],
   "source": [
    "print(str[0:6])\n",
    "print(str[6:11])\n",
    "print(str[6:-1])\n",
    "print(str[:6])\n",
    "print(str[6:])  # World!"
   ]
  },
  {
   "cell_type": "code",
   "execution_count": 57,
   "id": "5fd43473",
   "metadata": {},
   "outputs": [
    {
     "name": "stdout",
     "output_type": "stream",
     "text": [
      "['Hello', 'World!']\n",
      "World!\n",
      "['Hell', ' W', 'rld!']\n",
      "World\n",
      "12\n",
      "Hello World! Hello World! \n"
     ]
    }
   ],
   "source": [
    "print(str.split())\n",
    "print(str.split()[1])\n",
    "print(str.split('o'))\n",
    "print(str.split()[1][:-1])\n",
    "print(len(str))  # 12\n",
    "print((str + ' ')*2)"
   ]
  },
  {
   "cell_type": "code",
   "execution_count": null,
   "id": "9892a462",
   "metadata": {},
   "outputs": [],
   "source": [
    "for huruf in str:\n",
    "    print(huruf)"
   ]
  },
  {
   "cell_type": "code",
   "execution_count": null,
   "id": "dbd87e3a",
   "metadata": {},
   "outputs": [],
   "source": [
    "for i in range(1,101,2):\n",
    "    print(i)\n",
    "for i in range(2,101,2):\n",
    "    print(i)"
   ]
  },
  {
   "cell_type": "code",
   "execution_count": 77,
   "id": "2a8b0bed",
   "metadata": {},
   "outputs": [
    {
     "name": "stdout",
     "output_type": "stream",
     "text": [
      "3\n",
      "Elemen ke- 1 adalah satu\n",
      "Elemen ke- 2 adalah dua\n",
      "Elemen ke- 3 adalah tiga\n"
     ]
    }
   ],
   "source": [
    "list2 = ['satu','dua','tiga']\n",
    "print(len(list2))\n",
    "for i in range(len(list2)):\n",
    "    print(\"Elemen ke-\",i+1,\"adalah\",list2[i])"
   ]
  },
  {
   "cell_type": "code",
   "execution_count": 84,
   "id": "5c4c0f38",
   "metadata": {},
   "outputs": [
    {
     "name": "stdout",
     "output_type": "stream",
     "text": [
      "This is one\n",
      "This is two\n",
      "{'name': 'John', 'code': 6734, 'dept': 'sales'}\n",
      "dict_keys(['name', 'code', 'dept'])\n",
      "dict_values(['John', 6734, 'sales'])\n"
     ]
    }
   ],
   "source": [
    "dict = {}\n",
    "dict['one'] = \"This is one\"\n",
    "dict[2] = 'This is two'\n",
    "tinyDict = {'name': 'John', 'code': 6734, 'dept': 'sales'}\n",
    "print(dict['one'])\n",
    "print(dict[2])\n",
    "print(tinyDict)\n",
    "print(tinyDict.keys())\n",
    "print(tinyDict.values())"
   ]
  },
  {
   "cell_type": "code",
   "execution_count": 90,
   "id": "1fb2fc7c",
   "metadata": {},
   "outputs": [
    {
     "name": "stdout",
     "output_type": "stream",
     "text": [
      "{1, 2, 3, 4}\n",
      "(1, 2, 3, 4, 4)\n",
      "1\n"
     ]
    }
   ],
   "source": [
    "set1= {1, 2, 3, 4, 4}\n",
    "print(set1)\n",
    "tup1=(1,2,3,4,4)\n",
    "print(tup1)\n",
    "print(tup1[0])  # 1"
   ]
  },
  {
   "cell_type": "code",
   "execution_count": 6,
   "id": "c1dfcecf",
   "metadata": {},
   "outputs": [
    {
     "name": "stdout",
     "output_type": "stream",
     "text": [
      "False\n"
     ]
    }
   ],
   "source": [
    "a=None\n",
    "print(bool(a))"
   ]
  },
  {
   "cell_type": "code",
   "execution_count": 58,
   "id": "02fc204e",
   "metadata": {},
   "outputs": [
    {
     "name": "stdout",
     "output_type": "stream",
     "text": [
      "huruf a adalah huruf vokal\n",
      "hurufa adalah vokal\n"
     ]
    }
   ],
   "source": [
    "huruf = input(\"Masukkan huruf: \")\n",
    "vokal = 'aieuo'\n",
    "#huruf ='1'\n",
    "if huruf.isalpha() == False:\n",
    "    print(\"Input harus berupa huruf!\")\n",
    "else:\n",
    "    if huruf in 'aieuo':\n",
    "        print(f'huruf {huruf} adalah huruf vokal')\n",
    "    else:\n",
    "        print(f'huruf {huruf} adalah huruf konsonan')\n",
    "\n",
    "#style one liner\n",
    "print(f'huruf{huruf} adalah vokal') if huruf in vokal else print(f'huruf {huruf} adalah konsonan')\n",
    "\n"
   ]
  },
  {
   "cell_type": "code",
   "execution_count": 56,
   "id": "45fa8eed",
   "metadata": {},
   "outputs": [
    {
     "name": "stdout",
     "output_type": "stream",
     "text": [
      "12\n",
      "!\n",
      "!\n",
      "d\n",
      "l\n",
      "r\n",
      "o\n",
      "W\n",
      " \n",
      "o\n",
      "l\n",
      "l\n",
      "e\n",
      "H\n"
     ]
    }
   ],
   "source": [
    "str=\"Hello World!\"\n",
    "print(len(str))\n",
    "print(str[11])\n",
    "for huruf in range(len(str)-1,-1,-1):\n",
    "    print(str[huruf])\n"
   ]
  },
  {
   "cell_type": "code",
   "execution_count": 43,
   "id": "3f71b7fe",
   "metadata": {},
   "outputs": [
    {
     "name": "stdout",
     "output_type": "stream",
     "text": [
      "5\n",
      "4\n",
      "3\n",
      "2\n",
      "1\n",
      "0\n"
     ]
    }
   ],
   "source": [
    "for i in range(5,-1,-1):\n",
    "    print(i)"
   ]
  },
  {
   "cell_type": "code",
   "execution_count": 59,
   "id": "545e3bc9",
   "metadata": {},
   "outputs": [
    {
     "name": "stdout",
     "output_type": "stream",
     "text": [
      "Vowel alphabet\n",
      "Consonant alphabet\n",
      "Vowel alphabet\n"
     ]
    }
   ],
   "source": [
    "#match statement\n",
    "def checkVowel(n):\n",
    "    match n:\n",
    "        case 'a':return 'Vowel alphabet'\n",
    "        case 'e':return 'Vowel alphabet'\n",
    "        case 'i':return 'Vowel alphabet'    \n",
    "        case 'o':return 'Vowel alphabet'\n",
    "        case 'u':return 'Vowel alphabet'\n",
    "        case _:return 'Consonant alphabet'\n",
    "print (checkVowel('a'))\n",
    "print (checkVowel('b'))\n",
    "print (checkVowel('e'))"
   ]
  },
  {
   "cell_type": "code",
   "execution_count": 61,
   "id": "dc96908b",
   "metadata": {},
   "outputs": [
    {
     "name": "stdout",
     "output_type": "stream",
     "text": [
      "one\n",
      "two\n",
      "three\n",
      "1\n",
      "2\n",
      "3\n",
      "4\n",
      "5\n"
     ]
    }
   ],
   "source": [
    "#for loop\n",
    "words = [\"one\", \"two\", \"three\"]\n",
    "for x in words:\n",
    "    print(x)\n",
    "\n",
    "#while loop\n",
    "i = 1\n",
    "while i < 6:\n",
    "    print(i)\n",
    "    i += 1"
   ]
  },
  {
   "cell_type": "code",
   "execution_count": 64,
   "id": "34e6032a",
   "metadata": {},
   "outputs": [
    {
     "name": "stdout",
     "output_type": "stream",
     "text": [
      "x : 0\n",
      "x : 1\n",
      "x : 2\n",
      "x : 3\n",
      "x : 4\n",
      "x : 5\n",
      "Breaking...\n",
      "End\n",
      "Current Letter : P\n",
      "Current Letter : y\n",
      "Current Letter : t\n",
      "Current Letter : o\n",
      "Current Letter : n\n"
     ]
    }
   ],
   "source": [
    "#break\n",
    "x=0\n",
    "while x<10:\n",
    "    print(\"x :\", x)\n",
    "    if x == 5:\n",
    "        print(\"Breaking...\")\n",
    "        break\n",
    "    x += 1\n",
    "print(\"End\")\n",
    "\n",
    "#continue\n",
    "for letter in 'Python':\n",
    "    if letter == 'h':\n",
    "        continue\n",
    "    print('Current Letter :', letter)"
   ]
  },
  {
   "cell_type": "code",
   "execution_count": null,
   "id": "89fefb95",
   "metadata": {},
   "outputs": [
    {
     "name": "stdout",
     "output_type": "stream",
     "text": [
      "1\n",
      "2\n",
      "3\n",
      "4\n"
     ]
    }
   ],
   "source": [
    "#pakai while cetak 1 s/d 10\n",
    "i=1\n",
    "while i <=10:\n",
    "    print(i)\n",
    "    tanya = input(\"Lanjutkan? (y/n): \")\n",
    "    while tanya.lower() not in ['y', 'n','ya','yes','no','tidak']:\n",
    "        tanya = input(\"Input tidak valid. Lanjutkan? (y/n): \")\n",
    "    if tanya.lower() not in ['ya','y','yes']:\n",
    "        break\n",
    "    else:\n",
    "        i += 1"
   ]
  },
  {
   "cell_type": "code",
   "execution_count": 71,
   "id": "eddc941c",
   "metadata": {},
   "outputs": [
    {
     "name": "stdout",
     "output_type": "stream",
     "text": [
      "The number is equal to 100\n",
      "The number is even\n"
     ]
    }
   ],
   "source": [
    "#nested if statement\n",
    "var = 100\n",
    "if var == 100:\n",
    "    print(\"The number is equal to 100\")\n",
    "    if var % 2 ==0:\n",
    "        print(\"The number is even\")\n",
    "    else:\n",
    "        print(\"The number is odd\")\n",
    "elif var ==0:\n",
    "    print(\"The number is zero\")\n",
    "else:\n",
    "    print(\"The number is negative\")"
   ]
  },
  {
   "cell_type": "code",
   "execution_count": 98,
   "id": "bad4093a",
   "metadata": {},
   "outputs": [
    {
     "name": "stdout",
     "output_type": "stream",
     "text": [
      "Hello Ira\n",
      "Hello Budi\n",
      "30\n"
     ]
    }
   ],
   "source": [
    "def hello(nama ='Ira'):\n",
    "    print(f'Hello {nama}')\n",
    "hello()\n",
    "hello('Budi')\n",
    "\n",
    "def hasil(a,b):\n",
    "    hasil = a + b\n",
    "    return hasil\n",
    "\n",
    "a =hasil(10,20)\n",
    "print(a)"
   ]
  },
  {
   "cell_type": "code",
   "execution_count": 99,
   "id": "a4f85a56",
   "metadata": {},
   "outputs": [
    {
     "name": "stdout",
     "output_type": "stream",
     "text": [
      "Value of total:  30\n"
     ]
    }
   ],
   "source": [
    "sum = lambda a, b: a + b\n",
    "print(\"Value of total: \", sum(10, 20))"
   ]
  },
  {
   "cell_type": "code",
   "execution_count": 102,
   "id": "5b925ee5",
   "metadata": {},
   "outputs": [
    {
     "name": "stdout",
     "output_type": "stream",
     "text": [
      "Error: pembagi tidak boleh nol\n"
     ]
    }
   ],
   "source": [
    "a =4\n",
    "b=0\n",
    "#hasil = a/b\n",
    "#print(hasil)\n",
    "#try except \n",
    "try:\n",
    "    hasil = a / b\n",
    "    print(hasil)\n",
    "except ZeroDivisionError:\n",
    "    print(\"Error: pembagi tidak boleh nol\")"
   ]
  },
  {
   "cell_type": "code",
   "execution_count": 106,
   "id": "88e99334",
   "metadata": {},
   "outputs": [
    {
     "name": "stdout",
     "output_type": "stream",
     "text": [
      "Bilangan yang dimasukkan adalah 20.0\n"
     ]
    }
   ],
   "source": [
    "#num = float(input(\"Masukkan angka: \"))\n",
    "#print(f'Bilangan yang dimasukkan adalah {num}')\n",
    "try:\n",
    "    num = float(input(\"Masukkan angka: \"))\n",
    "    print(f'Bilangan yang dimasukkan adalah {num}')\n",
    "except ValueError:\n",
    "    print(\"Masukkan bilangan yang valid!\")"
   ]
  }
 ],
 "metadata": {
  "kernelspec": {
   "display_name": "myvenv",
   "language": "python",
   "name": "python3"
  },
  "language_info": {
   "codemirror_mode": {
    "name": "ipython",
    "version": 3
   },
   "file_extension": ".py",
   "mimetype": "text/x-python",
   "name": "python",
   "nbconvert_exporter": "python",
   "pygments_lexer": "ipython3",
   "version": "3.13.3"
  }
 },
 "nbformat": 4,
 "nbformat_minor": 5
}
